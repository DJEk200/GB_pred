{
  "nbformat": 4,
  "nbformat_minor": 0,
  "metadata": {
    "colab": {
      "name": "kulikss.ipynb",
      "provenance": [],
      "collapsed_sections": [],
      "authorship_tag": "ABX9TyNiBBCAu8/gFFaeTtk0E4rw",
      "include_colab_link": true
    },
    "kernelspec": {
      "name": "python3",
      "display_name": "Python 3"
    }
  },
  "cells": [
    {
      "cell_type": "markdown",
      "metadata": {
        "id": "view-in-github",
        "colab_type": "text"
      },
      "source": [
        "<a href=\"https://colab.research.google.com/github/DJEk200/GB_pred/blob/main/kulikss.ipynb\" target=\"_parent\"><img src=\"https://colab.research.google.com/assets/colab-badge.svg\" alt=\"Open In Colab\"/></a>"
      ]
    },
    {
      "cell_type": "markdown",
      "metadata": {
        "id": "Y-EQP3vbA9JB"
      },
      "source": [
        ""
      ]
    },
    {
      "cell_type": "code",
      "metadata": {
        "id": "eYqdxkU_tGXO"
      },
      "source": [
        "import numpy as np\n",
        "import pandas as pd\n",
        "import pickle\n",
        "\n",
        "from sklearn.model_selection import train_test_split\n",
        "from sklearn.model_selection import KFold, GridSearchCV, cross_val_score\n",
        "from sklearn.preprocessing import StandardScaler\n",
        "from sklearn.linear_model import LinearRegression\n",
        "from sklearn.tree import DecisionTreeRegressor\n",
        "from sklearn.ensemble import RandomForestRegressor, GradientBoostingRegressor\n",
        "from sklearn.metrics import r2_score, mean_absolute_error\n",
        "\n",
        "import matplotlib\n",
        "import matplotlib.pyplot as plt\n",
        "import seaborn as sns\n",
        "%matplotlib inline"
      ],
      "execution_count": null,
      "outputs": []
    },
    {
      "cell_type": "code",
      "metadata": {
        "id": "hG70A53otH46"
      },
      "source": [
        "\n",
        "import warnings\n",
        "warnings.filterwarnings('ignore')"
      ],
      "execution_count": null,
      "outputs": []
    },
    {
      "cell_type": "code",
      "metadata": {
        "id": "aEF1-ppNtI9m"
      },
      "source": [
        "def Bool_to_bin(ds, col):\n",
        "    ds[col] = ds[col].replace({'A':0, 'B':1})"
      ],
      "execution_count": null,
      "outputs": []
    },
    {
      "cell_type": "code",
      "metadata": {
        "id": "F5o56Vj_tMVt"
      },
      "source": [
        "def Scaler_Stand(features_,X_):\n",
        "    scaler = StandardScaler()\n",
        "    X_train_scaled = X_.copy()\n",
        "    X_train_scaled[features_] = scaler.fit_transform(X_train_scaled[features_])\n",
        "    return X_train_scaled"
      ],
      "execution_count": null,
      "outputs": []
    },
    {
      "cell_type": "code",
      "metadata": {
        "id": "0iI3EIfrtOBF"
      },
      "source": [
        "train_ds = pd.read_csv('train.csv', index_col='Id')\n",
        "test_ds = pd.read_csv('test.csv', index_col='Id')"
      ],
      "execution_count": null,
      "outputs": []
    },
    {
      "cell_type": "markdown",
      "metadata": {
        "id": "fwNGkEFTBEa4"
      },
      "source": [
        "**Информация о датасетах**"
      ]
    },
    {
      "cell_type": "code",
      "metadata": {
        "id": "ocwpCQ9ztfZJ",
        "colab": {
          "base_uri": "https://localhost:8080/",
          "height": 255
        },
        "outputId": "b2b5a0eb-6b3d-4bf7-d0f8-ce5aae370799"
      },
      "source": [
        "train_ds.head()"
      ],
      "execution_count": null,
      "outputs": [
        {
          "output_type": "execute_result",
          "data": {
            "text/html": [
              "<div>\n",
              "<style scoped>\n",
              "    .dataframe tbody tr th:only-of-type {\n",
              "        vertical-align: middle;\n",
              "    }\n",
              "\n",
              "    .dataframe tbody tr th {\n",
              "        vertical-align: top;\n",
              "    }\n",
              "\n",
              "    .dataframe thead th {\n",
              "        text-align: right;\n",
              "    }\n",
              "</style>\n",
              "<table border=\"1\" class=\"dataframe\">\n",
              "  <thead>\n",
              "    <tr style=\"text-align: right;\">\n",
              "      <th></th>\n",
              "      <th>DistrictId</th>\n",
              "      <th>Rooms</th>\n",
              "      <th>Square</th>\n",
              "      <th>LifeSquare</th>\n",
              "      <th>KitchenSquare</th>\n",
              "      <th>Floor</th>\n",
              "      <th>HouseFloor</th>\n",
              "      <th>HouseYear</th>\n",
              "      <th>Ecology_1</th>\n",
              "      <th>Ecology_2</th>\n",
              "      <th>Ecology_3</th>\n",
              "      <th>Social_1</th>\n",
              "      <th>Social_2</th>\n",
              "      <th>Social_3</th>\n",
              "      <th>Healthcare_1</th>\n",
              "      <th>Helthcare_2</th>\n",
              "      <th>Shops_1</th>\n",
              "      <th>Shops_2</th>\n",
              "      <th>Price</th>\n",
              "    </tr>\n",
              "    <tr>\n",
              "      <th>Id</th>\n",
              "      <th></th>\n",
              "      <th></th>\n",
              "      <th></th>\n",
              "      <th></th>\n",
              "      <th></th>\n",
              "      <th></th>\n",
              "      <th></th>\n",
              "      <th></th>\n",
              "      <th></th>\n",
              "      <th></th>\n",
              "      <th></th>\n",
              "      <th></th>\n",
              "      <th></th>\n",
              "      <th></th>\n",
              "      <th></th>\n",
              "      <th></th>\n",
              "      <th></th>\n",
              "      <th></th>\n",
              "      <th></th>\n",
              "    </tr>\n",
              "  </thead>\n",
              "  <tbody>\n",
              "    <tr>\n",
              "      <th>14038</th>\n",
              "      <td>35</td>\n",
              "      <td>2.0</td>\n",
              "      <td>47.981561</td>\n",
              "      <td>29.442751</td>\n",
              "      <td>6.0</td>\n",
              "      <td>7</td>\n",
              "      <td>9.0</td>\n",
              "      <td>1969</td>\n",
              "      <td>0.089040</td>\n",
              "      <td>B</td>\n",
              "      <td>B</td>\n",
              "      <td>33</td>\n",
              "      <td>7976</td>\n",
              "      <td>5</td>\n",
              "      <td>NaN</td>\n",
              "      <td>0</td>\n",
              "      <td>11</td>\n",
              "      <td>B</td>\n",
              "      <td>184966.930730</td>\n",
              "    </tr>\n",
              "    <tr>\n",
              "      <th>15053</th>\n",
              "      <td>41</td>\n",
              "      <td>3.0</td>\n",
              "      <td>65.683640</td>\n",
              "      <td>40.049543</td>\n",
              "      <td>8.0</td>\n",
              "      <td>7</td>\n",
              "      <td>9.0</td>\n",
              "      <td>1978</td>\n",
              "      <td>0.000070</td>\n",
              "      <td>B</td>\n",
              "      <td>B</td>\n",
              "      <td>46</td>\n",
              "      <td>10309</td>\n",
              "      <td>1</td>\n",
              "      <td>240.0</td>\n",
              "      <td>1</td>\n",
              "      <td>16</td>\n",
              "      <td>B</td>\n",
              "      <td>300009.450063</td>\n",
              "    </tr>\n",
              "    <tr>\n",
              "      <th>4765</th>\n",
              "      <td>53</td>\n",
              "      <td>2.0</td>\n",
              "      <td>44.947953</td>\n",
              "      <td>29.197612</td>\n",
              "      <td>0.0</td>\n",
              "      <td>8</td>\n",
              "      <td>12.0</td>\n",
              "      <td>1968</td>\n",
              "      <td>0.049637</td>\n",
              "      <td>B</td>\n",
              "      <td>B</td>\n",
              "      <td>34</td>\n",
              "      <td>7759</td>\n",
              "      <td>0</td>\n",
              "      <td>229.0</td>\n",
              "      <td>1</td>\n",
              "      <td>3</td>\n",
              "      <td>B</td>\n",
              "      <td>220925.908524</td>\n",
              "    </tr>\n",
              "    <tr>\n",
              "      <th>5809</th>\n",
              "      <td>58</td>\n",
              "      <td>2.0</td>\n",
              "      <td>53.352981</td>\n",
              "      <td>52.731512</td>\n",
              "      <td>9.0</td>\n",
              "      <td>8</td>\n",
              "      <td>17.0</td>\n",
              "      <td>1977</td>\n",
              "      <td>0.437885</td>\n",
              "      <td>B</td>\n",
              "      <td>B</td>\n",
              "      <td>23</td>\n",
              "      <td>5735</td>\n",
              "      <td>3</td>\n",
              "      <td>1084.0</td>\n",
              "      <td>0</td>\n",
              "      <td>5</td>\n",
              "      <td>B</td>\n",
              "      <td>175616.227217</td>\n",
              "    </tr>\n",
              "    <tr>\n",
              "      <th>10783</th>\n",
              "      <td>99</td>\n",
              "      <td>1.0</td>\n",
              "      <td>39.649192</td>\n",
              "      <td>23.776169</td>\n",
              "      <td>7.0</td>\n",
              "      <td>11</td>\n",
              "      <td>12.0</td>\n",
              "      <td>1976</td>\n",
              "      <td>0.012339</td>\n",
              "      <td>B</td>\n",
              "      <td>B</td>\n",
              "      <td>35</td>\n",
              "      <td>5776</td>\n",
              "      <td>1</td>\n",
              "      <td>2078.0</td>\n",
              "      <td>2</td>\n",
              "      <td>4</td>\n",
              "      <td>B</td>\n",
              "      <td>150226.531644</td>\n",
              "    </tr>\n",
              "  </tbody>\n",
              "</table>\n",
              "</div>"
            ],
            "text/plain": [
              "       DistrictId  Rooms     Square  ...  Shops_1  Shops_2          Price\n",
              "Id                                   ...                                 \n",
              "14038          35    2.0  47.981561  ...       11        B  184966.930730\n",
              "15053          41    3.0  65.683640  ...       16        B  300009.450063\n",
              "4765           53    2.0  44.947953  ...        3        B  220925.908524\n",
              "5809           58    2.0  53.352981  ...        5        B  175616.227217\n",
              "10783          99    1.0  39.649192  ...        4        B  150226.531644\n",
              "\n",
              "[5 rows x 19 columns]"
            ]
          },
          "metadata": {
            "tags": []
          },
          "execution_count": 11
        }
      ]
    },
    {
      "cell_type": "code",
      "metadata": {
        "id": "dphcttu0thcD",
        "colab": {
          "base_uri": "https://localhost:8080/",
          "height": 255
        },
        "outputId": "5615d3b7-1408-40f5-d0a6-ae594d42fd31"
      },
      "source": [
        "test_ds.head()"
      ],
      "execution_count": null,
      "outputs": [
        {
          "output_type": "execute_result",
          "data": {
            "text/html": [
              "<div>\n",
              "<style scoped>\n",
              "    .dataframe tbody tr th:only-of-type {\n",
              "        vertical-align: middle;\n",
              "    }\n",
              "\n",
              "    .dataframe tbody tr th {\n",
              "        vertical-align: top;\n",
              "    }\n",
              "\n",
              "    .dataframe thead th {\n",
              "        text-align: right;\n",
              "    }\n",
              "</style>\n",
              "<table border=\"1\" class=\"dataframe\">\n",
              "  <thead>\n",
              "    <tr style=\"text-align: right;\">\n",
              "      <th></th>\n",
              "      <th>DistrictId</th>\n",
              "      <th>Rooms</th>\n",
              "      <th>Square</th>\n",
              "      <th>LifeSquare</th>\n",
              "      <th>KitchenSquare</th>\n",
              "      <th>Floor</th>\n",
              "      <th>HouseFloor</th>\n",
              "      <th>HouseYear</th>\n",
              "      <th>Ecology_1</th>\n",
              "      <th>Ecology_2</th>\n",
              "      <th>Ecology_3</th>\n",
              "      <th>Social_1</th>\n",
              "      <th>Social_2</th>\n",
              "      <th>Social_3</th>\n",
              "      <th>Healthcare_1</th>\n",
              "      <th>Helthcare_2</th>\n",
              "      <th>Shops_1</th>\n",
              "      <th>Shops_2</th>\n",
              "    </tr>\n",
              "    <tr>\n",
              "      <th>Id</th>\n",
              "      <th></th>\n",
              "      <th></th>\n",
              "      <th></th>\n",
              "      <th></th>\n",
              "      <th></th>\n",
              "      <th></th>\n",
              "      <th></th>\n",
              "      <th></th>\n",
              "      <th></th>\n",
              "      <th></th>\n",
              "      <th></th>\n",
              "      <th></th>\n",
              "      <th></th>\n",
              "      <th></th>\n",
              "      <th></th>\n",
              "      <th></th>\n",
              "      <th></th>\n",
              "      <th></th>\n",
              "    </tr>\n",
              "  </thead>\n",
              "  <tbody>\n",
              "    <tr>\n",
              "      <th>725</th>\n",
              "      <td>58</td>\n",
              "      <td>2.0</td>\n",
              "      <td>49.882643</td>\n",
              "      <td>33.432782</td>\n",
              "      <td>6.0</td>\n",
              "      <td>6</td>\n",
              "      <td>14.0</td>\n",
              "      <td>1972</td>\n",
              "      <td>0.310199</td>\n",
              "      <td>B</td>\n",
              "      <td>B</td>\n",
              "      <td>11</td>\n",
              "      <td>2748</td>\n",
              "      <td>1</td>\n",
              "      <td>NaN</td>\n",
              "      <td>0</td>\n",
              "      <td>0</td>\n",
              "      <td>B</td>\n",
              "    </tr>\n",
              "    <tr>\n",
              "      <th>15856</th>\n",
              "      <td>74</td>\n",
              "      <td>2.0</td>\n",
              "      <td>69.263183</td>\n",
              "      <td>NaN</td>\n",
              "      <td>1.0</td>\n",
              "      <td>6</td>\n",
              "      <td>1.0</td>\n",
              "      <td>1977</td>\n",
              "      <td>0.075779</td>\n",
              "      <td>B</td>\n",
              "      <td>B</td>\n",
              "      <td>6</td>\n",
              "      <td>1437</td>\n",
              "      <td>3</td>\n",
              "      <td>NaN</td>\n",
              "      <td>0</td>\n",
              "      <td>2</td>\n",
              "      <td>B</td>\n",
              "    </tr>\n",
              "    <tr>\n",
              "      <th>5480</th>\n",
              "      <td>190</td>\n",
              "      <td>1.0</td>\n",
              "      <td>13.597819</td>\n",
              "      <td>15.948246</td>\n",
              "      <td>12.0</td>\n",
              "      <td>2</td>\n",
              "      <td>5.0</td>\n",
              "      <td>1909</td>\n",
              "      <td>0.000000</td>\n",
              "      <td>B</td>\n",
              "      <td>B</td>\n",
              "      <td>30</td>\n",
              "      <td>7538</td>\n",
              "      <td>87</td>\n",
              "      <td>4702.0</td>\n",
              "      <td>5</td>\n",
              "      <td>5</td>\n",
              "      <td>B</td>\n",
              "    </tr>\n",
              "    <tr>\n",
              "      <th>15664</th>\n",
              "      <td>47</td>\n",
              "      <td>2.0</td>\n",
              "      <td>73.046609</td>\n",
              "      <td>51.940842</td>\n",
              "      <td>9.0</td>\n",
              "      <td>22</td>\n",
              "      <td>22.0</td>\n",
              "      <td>2007</td>\n",
              "      <td>0.101872</td>\n",
              "      <td>B</td>\n",
              "      <td>B</td>\n",
              "      <td>23</td>\n",
              "      <td>4583</td>\n",
              "      <td>3</td>\n",
              "      <td>NaN</td>\n",
              "      <td>3</td>\n",
              "      <td>3</td>\n",
              "      <td>B</td>\n",
              "    </tr>\n",
              "    <tr>\n",
              "      <th>14275</th>\n",
              "      <td>27</td>\n",
              "      <td>1.0</td>\n",
              "      <td>47.527111</td>\n",
              "      <td>43.387569</td>\n",
              "      <td>1.0</td>\n",
              "      <td>17</td>\n",
              "      <td>17.0</td>\n",
              "      <td>2017</td>\n",
              "      <td>0.072158</td>\n",
              "      <td>B</td>\n",
              "      <td>B</td>\n",
              "      <td>2</td>\n",
              "      <td>629</td>\n",
              "      <td>1</td>\n",
              "      <td>NaN</td>\n",
              "      <td>0</td>\n",
              "      <td>0</td>\n",
              "      <td>A</td>\n",
              "    </tr>\n",
              "  </tbody>\n",
              "</table>\n",
              "</div>"
            ],
            "text/plain": [
              "       DistrictId  Rooms     Square  ...  Helthcare_2  Shops_1  Shops_2\n",
              "Id                                   ...                               \n",
              "725            58    2.0  49.882643  ...            0        0        B\n",
              "15856          74    2.0  69.263183  ...            0        2        B\n",
              "5480          190    1.0  13.597819  ...            5        5        B\n",
              "15664          47    2.0  73.046609  ...            3        3        B\n",
              "14275          27    1.0  47.527111  ...            0        0        A\n",
              "\n",
              "[5 rows x 18 columns]"
            ]
          },
          "metadata": {
            "tags": []
          },
          "execution_count": 12
        }
      ]
    },
    {
      "cell_type": "code",
      "metadata": {
        "id": "cH3zoJwltitX",
        "colab": {
          "base_uri": "https://localhost:8080/"
        },
        "outputId": "0ec4ca58-c135-4207-883c-eaeee5005f3e"
      },
      "source": [
        "\n",
        "train_ds.shape, test_ds.shape"
      ],
      "execution_count": null,
      "outputs": [
        {
          "output_type": "execute_result",
          "data": {
            "text/plain": [
              "((10000, 19), (5000, 18))"
            ]
          },
          "metadata": {
            "tags": []
          },
          "execution_count": 13
        }
      ]
    },
    {
      "cell_type": "markdown",
      "metadata": {
        "id": "a6XHLR9gBQUj"
      },
      "source": [
        "**Проверяем на пропуски и типы данных**"
      ]
    },
    {
      "cell_type": "code",
      "metadata": {
        "id": "jZFMZytOtkGI",
        "colab": {
          "base_uri": "https://localhost:8080/",
          "height": 317
        },
        "outputId": "a6357ffb-be8a-4eb8-d1c6-cd311a67958b"
      },
      "source": [
        "train_ds.describe()"
      ],
      "execution_count": null,
      "outputs": [
        {
          "output_type": "execute_result",
          "data": {
            "text/html": [
              "<div>\n",
              "<style scoped>\n",
              "    .dataframe tbody tr th:only-of-type {\n",
              "        vertical-align: middle;\n",
              "    }\n",
              "\n",
              "    .dataframe tbody tr th {\n",
              "        vertical-align: top;\n",
              "    }\n",
              "\n",
              "    .dataframe thead th {\n",
              "        text-align: right;\n",
              "    }\n",
              "</style>\n",
              "<table border=\"1\" class=\"dataframe\">\n",
              "  <thead>\n",
              "    <tr style=\"text-align: right;\">\n",
              "      <th></th>\n",
              "      <th>DistrictId</th>\n",
              "      <th>Rooms</th>\n",
              "      <th>Square</th>\n",
              "      <th>LifeSquare</th>\n",
              "      <th>KitchenSquare</th>\n",
              "      <th>Floor</th>\n",
              "      <th>HouseFloor</th>\n",
              "      <th>HouseYear</th>\n",
              "      <th>Ecology_1</th>\n",
              "      <th>Social_1</th>\n",
              "      <th>Social_2</th>\n",
              "      <th>Social_3</th>\n",
              "      <th>Healthcare_1</th>\n",
              "      <th>Helthcare_2</th>\n",
              "      <th>Shops_1</th>\n",
              "      <th>Price</th>\n",
              "    </tr>\n",
              "  </thead>\n",
              "  <tbody>\n",
              "    <tr>\n",
              "      <th>count</th>\n",
              "      <td>10000.000000</td>\n",
              "      <td>10000.000000</td>\n",
              "      <td>10000.000000</td>\n",
              "      <td>7887.000000</td>\n",
              "      <td>10000.000000</td>\n",
              "      <td>10000.000000</td>\n",
              "      <td>10000.000000</td>\n",
              "      <td>1.000000e+04</td>\n",
              "      <td>10000.000000</td>\n",
              "      <td>10000.000000</td>\n",
              "      <td>10000.000000</td>\n",
              "      <td>10000.000000</td>\n",
              "      <td>5202.000000</td>\n",
              "      <td>10000.000000</td>\n",
              "      <td>10000.000000</td>\n",
              "      <td>10000.000000</td>\n",
              "    </tr>\n",
              "    <tr>\n",
              "      <th>mean</th>\n",
              "      <td>50.400800</td>\n",
              "      <td>1.890500</td>\n",
              "      <td>56.315775</td>\n",
              "      <td>37.199645</td>\n",
              "      <td>6.273300</td>\n",
              "      <td>8.526700</td>\n",
              "      <td>12.609400</td>\n",
              "      <td>3.990166e+03</td>\n",
              "      <td>0.118858</td>\n",
              "      <td>24.687000</td>\n",
              "      <td>5352.157400</td>\n",
              "      <td>8.039200</td>\n",
              "      <td>1142.904460</td>\n",
              "      <td>1.319500</td>\n",
              "      <td>4.231300</td>\n",
              "      <td>214138.857399</td>\n",
              "    </tr>\n",
              "    <tr>\n",
              "      <th>std</th>\n",
              "      <td>43.587592</td>\n",
              "      <td>0.839512</td>\n",
              "      <td>21.058732</td>\n",
              "      <td>86.241209</td>\n",
              "      <td>28.560917</td>\n",
              "      <td>5.241148</td>\n",
              "      <td>6.775974</td>\n",
              "      <td>2.005003e+05</td>\n",
              "      <td>0.119025</td>\n",
              "      <td>17.532614</td>\n",
              "      <td>4006.799803</td>\n",
              "      <td>23.831875</td>\n",
              "      <td>1021.517264</td>\n",
              "      <td>1.493601</td>\n",
              "      <td>4.806341</td>\n",
              "      <td>92872.293865</td>\n",
              "    </tr>\n",
              "    <tr>\n",
              "      <th>min</th>\n",
              "      <td>0.000000</td>\n",
              "      <td>0.000000</td>\n",
              "      <td>1.136859</td>\n",
              "      <td>0.370619</td>\n",
              "      <td>0.000000</td>\n",
              "      <td>1.000000</td>\n",
              "      <td>0.000000</td>\n",
              "      <td>1.910000e+03</td>\n",
              "      <td>0.000000</td>\n",
              "      <td>0.000000</td>\n",
              "      <td>168.000000</td>\n",
              "      <td>0.000000</td>\n",
              "      <td>0.000000</td>\n",
              "      <td>0.000000</td>\n",
              "      <td>0.000000</td>\n",
              "      <td>59174.778028</td>\n",
              "    </tr>\n",
              "    <tr>\n",
              "      <th>25%</th>\n",
              "      <td>20.000000</td>\n",
              "      <td>1.000000</td>\n",
              "      <td>41.774881</td>\n",
              "      <td>22.769832</td>\n",
              "      <td>1.000000</td>\n",
              "      <td>4.000000</td>\n",
              "      <td>9.000000</td>\n",
              "      <td>1.974000e+03</td>\n",
              "      <td>0.017647</td>\n",
              "      <td>6.000000</td>\n",
              "      <td>1564.000000</td>\n",
              "      <td>0.000000</td>\n",
              "      <td>350.000000</td>\n",
              "      <td>0.000000</td>\n",
              "      <td>1.000000</td>\n",
              "      <td>153872.633942</td>\n",
              "    </tr>\n",
              "    <tr>\n",
              "      <th>50%</th>\n",
              "      <td>36.000000</td>\n",
              "      <td>2.000000</td>\n",
              "      <td>52.513310</td>\n",
              "      <td>32.781260</td>\n",
              "      <td>6.000000</td>\n",
              "      <td>7.000000</td>\n",
              "      <td>13.000000</td>\n",
              "      <td>1.977000e+03</td>\n",
              "      <td>0.075424</td>\n",
              "      <td>25.000000</td>\n",
              "      <td>5285.000000</td>\n",
              "      <td>2.000000</td>\n",
              "      <td>900.000000</td>\n",
              "      <td>1.000000</td>\n",
              "      <td>3.000000</td>\n",
              "      <td>192269.644879</td>\n",
              "    </tr>\n",
              "    <tr>\n",
              "      <th>75%</th>\n",
              "      <td>75.000000</td>\n",
              "      <td>2.000000</td>\n",
              "      <td>65.900625</td>\n",
              "      <td>45.128803</td>\n",
              "      <td>9.000000</td>\n",
              "      <td>12.000000</td>\n",
              "      <td>17.000000</td>\n",
              "      <td>2.001000e+03</td>\n",
              "      <td>0.195781</td>\n",
              "      <td>36.000000</td>\n",
              "      <td>7227.000000</td>\n",
              "      <td>5.000000</td>\n",
              "      <td>1548.000000</td>\n",
              "      <td>2.000000</td>\n",
              "      <td>6.000000</td>\n",
              "      <td>249135.462171</td>\n",
              "    </tr>\n",
              "    <tr>\n",
              "      <th>max</th>\n",
              "      <td>209.000000</td>\n",
              "      <td>19.000000</td>\n",
              "      <td>641.065193</td>\n",
              "      <td>7480.592129</td>\n",
              "      <td>2014.000000</td>\n",
              "      <td>42.000000</td>\n",
              "      <td>117.000000</td>\n",
              "      <td>2.005201e+07</td>\n",
              "      <td>0.521867</td>\n",
              "      <td>74.000000</td>\n",
              "      <td>19083.000000</td>\n",
              "      <td>141.000000</td>\n",
              "      <td>4849.000000</td>\n",
              "      <td>6.000000</td>\n",
              "      <td>23.000000</td>\n",
              "      <td>633233.466570</td>\n",
              "    </tr>\n",
              "  </tbody>\n",
              "</table>\n",
              "</div>"
            ],
            "text/plain": [
              "         DistrictId         Rooms  ...       Shops_1          Price\n",
              "count  10000.000000  10000.000000  ...  10000.000000   10000.000000\n",
              "mean      50.400800      1.890500  ...      4.231300  214138.857399\n",
              "std       43.587592      0.839512  ...      4.806341   92872.293865\n",
              "min        0.000000      0.000000  ...      0.000000   59174.778028\n",
              "25%       20.000000      1.000000  ...      1.000000  153872.633942\n",
              "50%       36.000000      2.000000  ...      3.000000  192269.644879\n",
              "75%       75.000000      2.000000  ...      6.000000  249135.462171\n",
              "max      209.000000     19.000000  ...     23.000000  633233.466570\n",
              "\n",
              "[8 rows x 16 columns]"
            ]
          },
          "metadata": {
            "tags": []
          },
          "execution_count": 14
        }
      ]
    },
    {
      "cell_type": "code",
      "metadata": {
        "id": "0ylyFNQgtmM5",
        "colab": {
          "base_uri": "https://localhost:8080/",
          "height": 317
        },
        "outputId": "028ffa66-3a11-4a04-e681-08d64722962f"
      },
      "source": [
        "test_ds.describe()"
      ],
      "execution_count": null,
      "outputs": [
        {
          "output_type": "execute_result",
          "data": {
            "text/html": [
              "<div>\n",
              "<style scoped>\n",
              "    .dataframe tbody tr th:only-of-type {\n",
              "        vertical-align: middle;\n",
              "    }\n",
              "\n",
              "    .dataframe tbody tr th {\n",
              "        vertical-align: top;\n",
              "    }\n",
              "\n",
              "    .dataframe thead th {\n",
              "        text-align: right;\n",
              "    }\n",
              "</style>\n",
              "<table border=\"1\" class=\"dataframe\">\n",
              "  <thead>\n",
              "    <tr style=\"text-align: right;\">\n",
              "      <th></th>\n",
              "      <th>DistrictId</th>\n",
              "      <th>Rooms</th>\n",
              "      <th>Square</th>\n",
              "      <th>LifeSquare</th>\n",
              "      <th>KitchenSquare</th>\n",
              "      <th>Floor</th>\n",
              "      <th>HouseFloor</th>\n",
              "      <th>HouseYear</th>\n",
              "      <th>Ecology_1</th>\n",
              "      <th>Social_1</th>\n",
              "      <th>Social_2</th>\n",
              "      <th>Social_3</th>\n",
              "      <th>Healthcare_1</th>\n",
              "      <th>Helthcare_2</th>\n",
              "      <th>Shops_1</th>\n",
              "    </tr>\n",
              "  </thead>\n",
              "  <tbody>\n",
              "    <tr>\n",
              "      <th>count</th>\n",
              "      <td>5000.000000</td>\n",
              "      <td>5000.000000</td>\n",
              "      <td>5000.000000</td>\n",
              "      <td>3959.000000</td>\n",
              "      <td>5000.000000</td>\n",
              "      <td>5000.000000</td>\n",
              "      <td>5000.000000</td>\n",
              "      <td>5000.000000</td>\n",
              "      <td>5000.000000</td>\n",
              "      <td>5000.000000</td>\n",
              "      <td>5000.000000</td>\n",
              "      <td>5000.000000</td>\n",
              "      <td>2623.000000</td>\n",
              "      <td>5000.00000</td>\n",
              "      <td>5000.000000</td>\n",
              "    </tr>\n",
              "    <tr>\n",
              "      <th>mean</th>\n",
              "      <td>51.279200</td>\n",
              "      <td>1.910000</td>\n",
              "      <td>56.449500</td>\n",
              "      <td>36.158810</td>\n",
              "      <td>5.976800</td>\n",
              "      <td>8.632000</td>\n",
              "      <td>12.601000</td>\n",
              "      <td>1984.392600</td>\n",
              "      <td>0.119874</td>\n",
              "      <td>24.933800</td>\n",
              "      <td>5406.900000</td>\n",
              "      <td>8.262600</td>\n",
              "      <td>1146.657263</td>\n",
              "      <td>1.31940</td>\n",
              "      <td>4.242800</td>\n",
              "    </tr>\n",
              "    <tr>\n",
              "      <th>std</th>\n",
              "      <td>44.179466</td>\n",
              "      <td>0.838594</td>\n",
              "      <td>19.092787</td>\n",
              "      <td>17.825287</td>\n",
              "      <td>9.950018</td>\n",
              "      <td>5.483228</td>\n",
              "      <td>6.789213</td>\n",
              "      <td>18.573149</td>\n",
              "      <td>0.120070</td>\n",
              "      <td>17.532202</td>\n",
              "      <td>4026.614773</td>\n",
              "      <td>23.863762</td>\n",
              "      <td>1044.744231</td>\n",
              "      <td>1.47994</td>\n",
              "      <td>4.777365</td>\n",
              "    </tr>\n",
              "    <tr>\n",
              "      <th>min</th>\n",
              "      <td>0.000000</td>\n",
              "      <td>0.000000</td>\n",
              "      <td>1.378543</td>\n",
              "      <td>0.333490</td>\n",
              "      <td>0.000000</td>\n",
              "      <td>1.000000</td>\n",
              "      <td>0.000000</td>\n",
              "      <td>1908.000000</td>\n",
              "      <td>0.000000</td>\n",
              "      <td>0.000000</td>\n",
              "      <td>168.000000</td>\n",
              "      <td>0.000000</td>\n",
              "      <td>0.000000</td>\n",
              "      <td>0.00000</td>\n",
              "      <td>0.000000</td>\n",
              "    </tr>\n",
              "    <tr>\n",
              "      <th>25%</th>\n",
              "      <td>21.000000</td>\n",
              "      <td>1.000000</td>\n",
              "      <td>41.906231</td>\n",
              "      <td>23.092026</td>\n",
              "      <td>1.000000</td>\n",
              "      <td>4.000000</td>\n",
              "      <td>9.000000</td>\n",
              "      <td>1973.000000</td>\n",
              "      <td>0.019509</td>\n",
              "      <td>6.000000</td>\n",
              "      <td>1564.000000</td>\n",
              "      <td>0.000000</td>\n",
              "      <td>325.000000</td>\n",
              "      <td>0.00000</td>\n",
              "      <td>1.000000</td>\n",
              "    </tr>\n",
              "    <tr>\n",
              "      <th>50%</th>\n",
              "      <td>37.000000</td>\n",
              "      <td>2.000000</td>\n",
              "      <td>52.921340</td>\n",
              "      <td>32.925087</td>\n",
              "      <td>6.000000</td>\n",
              "      <td>7.000000</td>\n",
              "      <td>12.000000</td>\n",
              "      <td>1977.000000</td>\n",
              "      <td>0.072158</td>\n",
              "      <td>25.000000</td>\n",
              "      <td>5285.000000</td>\n",
              "      <td>2.000000</td>\n",
              "      <td>900.000000</td>\n",
              "      <td>1.00000</td>\n",
              "      <td>3.000000</td>\n",
              "    </tr>\n",
              "    <tr>\n",
              "      <th>75%</th>\n",
              "      <td>77.000000</td>\n",
              "      <td>2.000000</td>\n",
              "      <td>66.285129</td>\n",
              "      <td>45.174091</td>\n",
              "      <td>9.000000</td>\n",
              "      <td>12.000000</td>\n",
              "      <td>17.000000</td>\n",
              "      <td>2000.000000</td>\n",
              "      <td>0.195781</td>\n",
              "      <td>36.000000</td>\n",
              "      <td>7287.000000</td>\n",
              "      <td>5.000000</td>\n",
              "      <td>1548.000000</td>\n",
              "      <td>2.00000</td>\n",
              "      <td>6.000000</td>\n",
              "    </tr>\n",
              "    <tr>\n",
              "      <th>max</th>\n",
              "      <td>212.000000</td>\n",
              "      <td>17.000000</td>\n",
              "      <td>223.453689</td>\n",
              "      <td>303.071094</td>\n",
              "      <td>620.000000</td>\n",
              "      <td>78.000000</td>\n",
              "      <td>99.000000</td>\n",
              "      <td>2020.000000</td>\n",
              "      <td>0.521867</td>\n",
              "      <td>74.000000</td>\n",
              "      <td>19083.000000</td>\n",
              "      <td>141.000000</td>\n",
              "      <td>4849.000000</td>\n",
              "      <td>6.00000</td>\n",
              "      <td>23.000000</td>\n",
              "    </tr>\n",
              "  </tbody>\n",
              "</table>\n",
              "</div>"
            ],
            "text/plain": [
              "        DistrictId        Rooms  ...  Helthcare_2      Shops_1\n",
              "count  5000.000000  5000.000000  ...   5000.00000  5000.000000\n",
              "mean     51.279200     1.910000  ...      1.31940     4.242800\n",
              "std      44.179466     0.838594  ...      1.47994     4.777365\n",
              "min       0.000000     0.000000  ...      0.00000     0.000000\n",
              "25%      21.000000     1.000000  ...      0.00000     1.000000\n",
              "50%      37.000000     2.000000  ...      1.00000     3.000000\n",
              "75%      77.000000     2.000000  ...      2.00000     6.000000\n",
              "max     212.000000    17.000000  ...      6.00000    23.000000\n",
              "\n",
              "[8 rows x 15 columns]"
            ]
          },
          "metadata": {
            "tags": []
          },
          "execution_count": 15
        }
      ]
    },
    {
      "cell_type": "code",
      "metadata": {
        "id": "BEB-WbBbtnSh",
        "colab": {
          "base_uri": "https://localhost:8080/"
        },
        "outputId": "e2c3246e-700a-40d0-e912-2f073648e505"
      },
      "source": [
        "test_ds.dtypes"
      ],
      "execution_count": null,
      "outputs": [
        {
          "output_type": "execute_result",
          "data": {
            "text/plain": [
              "DistrictId         int64\n",
              "Rooms            float64\n",
              "Square           float64\n",
              "LifeSquare       float64\n",
              "KitchenSquare    float64\n",
              "Floor              int64\n",
              "HouseFloor       float64\n",
              "HouseYear          int64\n",
              "Ecology_1        float64\n",
              "Ecology_2         object\n",
              "Ecology_3         object\n",
              "Social_1           int64\n",
              "Social_2           int64\n",
              "Social_3           int64\n",
              "Healthcare_1     float64\n",
              "Helthcare_2        int64\n",
              "Shops_1            int64\n",
              "Shops_2           object\n",
              "dtype: object"
            ]
          },
          "metadata": {
            "tags": []
          },
          "execution_count": 16
        }
      ]
    },
    {
      "cell_type": "code",
      "metadata": {
        "id": "-a6bsAPdtojB"
      },
      "source": [
        "train_ds['DistrictId'] = train_ds['DistrictId'].astype(str)\n",
        "test_ds['DistrictId'] = test_ds['DistrictId'].astype(str)"
      ],
      "execution_count": null,
      "outputs": []
    },
    {
      "cell_type": "code",
      "metadata": {
        "id": "KGl3mz4XtqDX",
        "colab": {
          "base_uri": "https://localhost:8080/"
        },
        "outputId": "86630187-3f15-4a5f-cb8d-54bffbb9730e"
      },
      "source": [
        "\n",
        "train_ds.isna().sum()"
      ],
      "execution_count": null,
      "outputs": [
        {
          "output_type": "execute_result",
          "data": {
            "text/plain": [
              "DistrictId          0\n",
              "Rooms               0\n",
              "Square              0\n",
              "LifeSquare       2113\n",
              "KitchenSquare       0\n",
              "Floor               0\n",
              "HouseFloor          0\n",
              "HouseYear           0\n",
              "Ecology_1           0\n",
              "Ecology_2           0\n",
              "Ecology_3           0\n",
              "Social_1            0\n",
              "Social_2            0\n",
              "Social_3            0\n",
              "Healthcare_1     4798\n",
              "Helthcare_2         0\n",
              "Shops_1             0\n",
              "Shops_2             0\n",
              "Price               0\n",
              "dtype: int64"
            ]
          },
          "metadata": {
            "tags": []
          },
          "execution_count": 18
        }
      ]
    },
    {
      "cell_type": "code",
      "metadata": {
        "id": "Pzr16opEtrfS",
        "colab": {
          "base_uri": "https://localhost:8080/"
        },
        "outputId": "4346e48a-233b-4c21-8a41-3512bdac4362"
      },
      "source": [
        "test_ds.isna().sum()"
      ],
      "execution_count": null,
      "outputs": [
        {
          "output_type": "execute_result",
          "data": {
            "text/plain": [
              "DistrictId          0\n",
              "Rooms               0\n",
              "Square              0\n",
              "LifeSquare       1041\n",
              "KitchenSquare       0\n",
              "Floor               0\n",
              "HouseFloor          0\n",
              "HouseYear           0\n",
              "Ecology_1           0\n",
              "Ecology_2           0\n",
              "Ecology_3           0\n",
              "Social_1            0\n",
              "Social_2            0\n",
              "Social_3            0\n",
              "Healthcare_1     2377\n",
              "Helthcare_2         0\n",
              "Shops_1             0\n",
              "Shops_2             0\n",
              "dtype: int64"
            ]
          },
          "metadata": {
            "tags": []
          },
          "execution_count": 19
        }
      ]
    },
    {
      "cell_type": "markdown",
      "metadata": {
        "id": "j9NTi3hIBcBz"
      },
      "source": [
        "**Анализ целевой перемнной**"
      ]
    },
    {
      "cell_type": "code",
      "metadata": {
        "id": "ynL5hjvWts5L",
        "colab": {
          "base_uri": "https://localhost:8080/",
          "height": 431
        },
        "outputId": "271f2ac5-e2a1-4477-a9cd-5c8ea3bb1b84"
      },
      "source": [
        "plt.figure(figsize = (14, 6))\n",
        "\n",
        "plt.subplot(121)\n",
        "train_ds['Price'].hist(edgecolor='white')\n",
        "plt.ylabel('Count')\n",
        "plt.xlabel('Price')\n",
        "\n",
        "plt.subplot(122)\n",
        "sns.kdeplot(train_ds['Price'], shade=True, legend=False)\n",
        "plt.xlabel('Price')\n",
        "\n",
        "plt.suptitle('Price analysis', size=20);"
      ],
      "execution_count": null,
      "outputs": [
        {
          "output_type": "display_data",
          "data": {
            "image/png": "[encoded data removed]",
            "text/plain": [
              "<Figure size 1008x432 with 2 Axes>"
            ]
          },
          "metadata": {
            "tags": [],
            "needs_background": "light"
          }
        }
      ]
    },
    {
      "cell_type": "code",
      "metadata": {
        "id": "FCl1S86FtufU",
        "colab": {
          "base_uri": "https://localhost:8080/"
        },
        "outputId": "6047eedb-0137-4c95-fa82-ee5ad088820d"
      },
      "source": [
        "target_mean = round(train_ds['Price'].mean(), 2)\n",
        "target_median = train_ds['Price'].median()\n",
        "\n",
        "target_mean, target_median"
      ],
      "execution_count": null,
      "outputs": [
        {
          "output_type": "execute_result",
          "data": {
            "text/plain": [
              "(214138.86, 192269.64487934904)"
            ]
          },
          "metadata": {
            "tags": []
          },
          "execution_count": 21
        }
      ]
    },
    {
      "cell_type": "code",
      "metadata": {
        "id": "mqqVuc15tvpv",
        "colab": {
          "base_uri": "https://localhost:8080/",
          "height": 404
        },
        "outputId": "752c815d-6959-45a8-970f-1aa751fda839"
      },
      "source": [
        "plt.figure(figsize = (14, 6))\n",
        "sns.distplot(train_ds['Price'])\n",
        "plt.title('Price analysis')\n",
        "plt.axvline(target_mean, color='r', label='mean = {0}'.format(target_mean), linestyle=':', linewidth=4)\n",
        "plt.axvline(target_median, color='g', label='median = {0}'.format(target_median), linestyle='--', linewidth=4)\n",
        "plt.legend();"
      ],
      "execution_count": null,
      "outputs": [
        {
          "output_type": "display_data",
          "data": {
            "image/png": "[encoded data removed]",
            "text/plain": [
              "<Figure size 1008x432 with 1 Axes>"
            ]
          },
          "metadata": {
            "tags": [],
            "needs_background": "light"
          }
        }
      ]
    },
    {
      "cell_type": "markdown",
      "metadata": {
        "id": "GU_GeLbSBmgW"
      },
      "source": [
        "**Проверяем количественные переменные**"
      ]
    },
    {
      "cell_type": "code",
      "metadata": {
        "id": "pOuOb6MgtyG4",
        "colab": {
          "base_uri": "https://localhost:8080/"
        },
        "outputId": "03b1d4f8-8e76-477d-8236-405f7a351977"
      },
      "source": [
        "feature_num_names = train_ds.drop('Price', axis=1).select_dtypes(include=['float64', 'int64']).\\\n",
        "        columns.tolist()\n",
        "feature_num_names"
      ],
      "execution_count": null,
      "outputs": [
        {
          "output_type": "execute_result",
          "data": {
            "text/plain": [
              "['Rooms',\n",
              " 'Square',\n",
              " 'LifeSquare',\n",
              " 'KitchenSquare',\n",
              " 'Floor',\n",
              " 'HouseFloor',\n",
              " 'HouseYear',\n",
              " 'Ecology_1',\n",
              " 'Social_1',\n",
              " 'Social_2',\n",
              " 'Social_3',\n",
              " 'Healthcare_1',\n",
              " 'Helthcare_2',\n",
              " 'Shops_1']"
            ]
          },
          "metadata": {
            "tags": []
          },
          "execution_count": 23
        }
      ]
    },
    {
      "cell_type": "code",
      "metadata": {
        "id": "JtHOXv4ct0Uh",
        "colab": {
          "base_uri": "https://localhost:8080/",
          "height": 825
        },
        "outputId": "400a0068-69c2-4bca-8b6a-3cfe11c6a147"
      },
      "source": [
        "train_ds[feature_num_names].hist(figsize=(14,14), bins=20, grid=True);"
      ],
      "execution_count": null,
      "outputs": [
        {
          "output_type": "display_data",
          "data": {
            "image/png": "[encoded data removed]",
            "text/plain": [
              "<Figure size 1008x1008 with 16 Axes>"
            ]
          },
          "metadata": {
            "tags": [],
            "needs_background": "light"
          }
        }
      ]
    },
    {
      "cell_type": "markdown",
      "metadata": {
        "id": "fY16p-V3BvyG"
      },
      "source": [
        "**Заполняем пропущенные значения в Lifesquare**"
      ]
    },
    {
      "cell_type": "code",
      "metadata": {
        "id": "0T189eOzt2Gh",
        "colab": {
          "base_uri": "https://localhost:8080/"
        },
        "outputId": "6f38fee7-5556-4a4b-fa75-a3ce81a116b5"
      },
      "source": [
        "train_ds['LifeSquare'].isna().sum(), test_ds['LifeSquare'].isna().sum()"
      ],
      "execution_count": null,
      "outputs": [
        {
          "output_type": "execute_result",
          "data": {
            "text/plain": [
              "(2113, 1041)"
            ]
          },
          "metadata": {
            "tags": []
          },
          "execution_count": 25
        }
      ]
    },
    {
      "cell_type": "code",
      "metadata": {
        "id": "P_eEUohyt3rW"
      },
      "source": [
        "train_ds.loc[train_ds['LifeSquare'].isna(), 'LifeSquare'] = train_ds['Square'] - train_ds['KitchenSquare']\n",
        "test_ds.loc[test_ds['LifeSquare'].isna(), 'LifeSquare'] = test_ds['Square'] - test_ds['KitchenSquare']"
      ],
      "execution_count": null,
      "outputs": []
    },
    {
      "cell_type": "code",
      "metadata": {
        "id": "LgVbuveWt6Dl",
        "colab": {
          "base_uri": "https://localhost:8080/"
        },
        "outputId": "4d8a60df-e3b4-40cf-f601-343c777ecdeb"
      },
      "source": [
        "train_ds['LifeSquare'].isna().sum(), test_ds['LifeSquare'].isna().sum()"
      ],
      "execution_count": null,
      "outputs": [
        {
          "output_type": "execute_result",
          "data": {
            "text/plain": [
              "(0, 0)"
            ]
          },
          "metadata": {
            "tags": []
          },
          "execution_count": 27
        }
      ]
    },
    {
      "cell_type": "markdown",
      "metadata": {
        "id": "LQkptEWbB3dv"
      },
      "source": [
        "**Меняем категориальные значения на бинарные**"
      ]
    },
    {
      "cell_type": "code",
      "metadata": {
        "id": "Bitc-iUHt7hM",
        "colab": {
          "base_uri": "https://localhost:8080/"
        },
        "outputId": "5e8c222a-fee8-4c55-e1a2-bd9322d6b2a5"
      },
      "source": [
        "\n",
        "feature_cat_names = train_ds.select_dtypes(include='object').columns.tolist()\n",
        "feature_cat_names"
      ],
      "execution_count": null,
      "outputs": [
        {
          "output_type": "execute_result",
          "data": {
            "text/plain": [
              "['DistrictId', 'Ecology_2', 'Ecology_3', 'Shops_2']"
            ]
          },
          "metadata": {
            "tags": []
          },
          "execution_count": 28
        }
      ]
    },
    {
      "cell_type": "code",
      "metadata": {
        "id": "Q_XJkljQt-ql"
      },
      "source": [
        "feature_bin_names = ['Ecology_2', 'Ecology_3', 'Shops_2']"
      ],
      "execution_count": null,
      "outputs": []
    },
    {
      "cell_type": "code",
      "metadata": {
        "id": "67NveRxouArC"
      },
      "source": [
        "Bool_to_bin(train_ds, feature_bin_names)\n",
        "Bool_to_bin(test_ds, feature_bin_names)"
      ],
      "execution_count": null,
      "outputs": []
    },
    {
      "cell_type": "code",
      "metadata": {
        "id": "y5N--K6JuBwD",
        "colab": {
          "base_uri": "https://localhost:8080/"
        },
        "outputId": "7b3ddea4-f634-4a7a-eacb-74790ffea2f2"
      },
      "source": [
        "train_ds.info(), test_ds.info()"
      ],
      "execution_count": null,
      "outputs": [
        {
          "output_type": "stream",
          "text": [
            "<class 'pandas.core.frame.DataFrame'>\n",
            "Int64Index: 10000 entries, 14038 to 6306\n",
            "Data columns (total 19 columns):\n",
            " #   Column         Non-Null Count  Dtype  \n",
            "---  ------         --------------  -----  \n",
            " 0   DistrictId     10000 non-null  object \n",
            " 1   Rooms          10000 non-null  float64\n",
            " 2   Square         10000 non-null  float64\n",
            " 3   LifeSquare     10000 non-null  float64\n",
            " 4   KitchenSquare  10000 non-null  float64\n",
            " 5   Floor          10000 non-null  int64  \n",
            " 6   HouseFloor     10000 non-null  float64\n",
            " 7   HouseYear      10000 non-null  int64  \n",
            " 8   Ecology_1      10000 non-null  float64\n",
            " 9   Ecology_2      10000 non-null  int64  \n",
            " 10  Ecology_3      10000 non-null  int64  \n",
            " 11  Social_1       10000 non-null  int64  \n",
            " 12  Social_2       10000 non-null  int64  \n",
            " 13  Social_3       10000 non-null  int64  \n",
            " 14  Healthcare_1   5202 non-null   float64\n",
            " 15  Helthcare_2    10000 non-null  int64  \n",
            " 16  Shops_1        10000 non-null  int64  \n",
            " 17  Shops_2        10000 non-null  int64  \n",
            " 18  Price          10000 non-null  float64\n",
            "dtypes: float64(8), int64(10), object(1)\n",
            "memory usage: 1.8+ MB\n",
            "<class 'pandas.core.frame.DataFrame'>\n",
            "Int64Index: 5000 entries, 725 to 12504\n",
            "Data columns (total 18 columns):\n",
            " #   Column         Non-Null Count  Dtype  \n",
            "---  ------         --------------  -----  \n",
            " 0   DistrictId     5000 non-null   object \n",
            " 1   Rooms          5000 non-null   float64\n",
            " 2   Square         5000 non-null   float64\n",
            " 3   LifeSquare     5000 non-null   float64\n",
            " 4   KitchenSquare  5000 non-null   float64\n",
            " 5   Floor          5000 non-null   int64  \n",
            " 6   HouseFloor     5000 non-null   float64\n",
            " 7   HouseYear      5000 non-null   int64  \n",
            " 8   Ecology_1      5000 non-null   float64\n",
            " 9   Ecology_2      5000 non-null   int64  \n",
            " 10  Ecology_3      5000 non-null   int64  \n",
            " 11  Social_1       5000 non-null   int64  \n",
            " 12  Social_2       5000 non-null   int64  \n",
            " 13  Social_3       5000 non-null   int64  \n",
            " 14  Healthcare_1   2623 non-null   float64\n",
            " 15  Helthcare_2    5000 non-null   int64  \n",
            " 16  Shops_1        5000 non-null   int64  \n",
            " 17  Shops_2        5000 non-null   int64  \n",
            "dtypes: float64(7), int64(10), object(1)\n",
            "memory usage: 902.2+ KB\n"
          ],
          "name": "stdout"
        },
        {
          "output_type": "execute_result",
          "data": {
            "text/plain": [
              "(None, None)"
            ]
          },
          "metadata": {
            "tags": []
          },
          "execution_count": 31
        }
      ]
    },
    {
      "cell_type": "code",
      "metadata": {
        "id": "8IYQzp-CuENr"
      },
      "source": [
        "train_ds['Healthcare_1'].fillna(train_ds['Healthcare_1'].median(), inplace=True)\n",
        "test_ds['Healthcare_1'].fillna(test_ds['Healthcare_1'].median(), inplace=True)"
      ],
      "execution_count": null,
      "outputs": []
    },
    {
      "cell_type": "markdown",
      "metadata": {
        "id": "deMoobnoCEzu"
      },
      "source": [
        "**Обработка вбросов**"
      ]
    },
    {
      "cell_type": "code",
      "metadata": {
        "id": "_R6jqvHMuR0s",
        "colab": {
          "base_uri": "https://localhost:8080/",
          "height": 297
        },
        "outputId": "105c3f8c-0658-4075-d14c-b7e6431d0667"
      },
      "source": [
        "train_ds[['Rooms']].describe()"
      ],
      "execution_count": null,
      "outputs": [
        {
          "output_type": "execute_result",
          "data": {
            "text/html": [
              "<div>\n",
              "<style scoped>\n",
              "    .dataframe tbody tr th:only-of-type {\n",
              "        vertical-align: middle;\n",
              "    }\n",
              "\n",
              "    .dataframe tbody tr th {\n",
              "        vertical-align: top;\n",
              "    }\n",
              "\n",
              "    .dataframe thead th {\n",
              "        text-align: right;\n",
              "    }\n",
              "</style>\n",
              "<table border=\"1\" class=\"dataframe\">\n",
              "  <thead>\n",
              "    <tr style=\"text-align: right;\">\n",
              "      <th></th>\n",
              "      <th>Rooms</th>\n",
              "    </tr>\n",
              "  </thead>\n",
              "  <tbody>\n",
              "    <tr>\n",
              "      <th>count</th>\n",
              "      <td>10000.000000</td>\n",
              "    </tr>\n",
              "    <tr>\n",
              "      <th>mean</th>\n",
              "      <td>1.890500</td>\n",
              "    </tr>\n",
              "    <tr>\n",
              "      <th>std</th>\n",
              "      <td>0.839512</td>\n",
              "    </tr>\n",
              "    <tr>\n",
              "      <th>min</th>\n",
              "      <td>0.000000</td>\n",
              "    </tr>\n",
              "    <tr>\n",
              "      <th>25%</th>\n",
              "      <td>1.000000</td>\n",
              "    </tr>\n",
              "    <tr>\n",
              "      <th>50%</th>\n",
              "      <td>2.000000</td>\n",
              "    </tr>\n",
              "    <tr>\n",
              "      <th>75%</th>\n",
              "      <td>2.000000</td>\n",
              "    </tr>\n",
              "    <tr>\n",
              "      <th>max</th>\n",
              "      <td>19.000000</td>\n",
              "    </tr>\n",
              "  </tbody>\n",
              "</table>\n",
              "</div>"
            ],
            "text/plain": [
              "              Rooms\n",
              "count  10000.000000\n",
              "mean       1.890500\n",
              "std        0.839512\n",
              "min        0.000000\n",
              "25%        1.000000\n",
              "50%        2.000000\n",
              "75%        2.000000\n",
              "max       19.000000"
            ]
          },
          "metadata": {
            "tags": []
          },
          "execution_count": 33
        }
      ]
    },
    {
      "cell_type": "code",
      "metadata": {
        "id": "HIpSQHJeuTw6",
        "colab": {
          "base_uri": "https://localhost:8080/",
          "height": 265
        },
        "outputId": "a9adf5b5-9324-4bba-9481-8c7b8693be73"
      },
      "source": [
        "plt.scatter(train_ds['Rooms'], train_ds['Price']);"
      ],
      "execution_count": null,
      "outputs": [
        {
          "output_type": "display_data",
          "data": {
            "image/png": "[encoded data removed]",
            "text/plain": [
              "<Figure size 432x288 with 1 Axes>"
            ]
          },
          "metadata": {
            "tags": [],
            "needs_background": "light"
          }
        }
      ]
    },
    {
      "cell_type": "code",
      "metadata": {
        "id": "0pf2EMSVuTzW",
        "colab": {
          "base_uri": "https://localhost:8080/",
          "height": 297
        },
        "outputId": "467e5527-16c4-4f24-a474-5ec363ecb0d8"
      },
      "source": [
        "test_ds[['Rooms']].describe()"
      ],
      "execution_count": null,
      "outputs": [
        {
          "output_type": "execute_result",
          "data": {
            "text/html": [
              "<div>\n",
              "<style scoped>\n",
              "    .dataframe tbody tr th:only-of-type {\n",
              "        vertical-align: middle;\n",
              "    }\n",
              "\n",
              "    .dataframe tbody tr th {\n",
              "        vertical-align: top;\n",
              "    }\n",
              "\n",
              "    .dataframe thead th {\n",
              "        text-align: right;\n",
              "    }\n",
              "</style>\n",
              "<table border=\"1\" class=\"dataframe\">\n",
              "  <thead>\n",
              "    <tr style=\"text-align: right;\">\n",
              "      <th></th>\n",
              "      <th>Rooms</th>\n",
              "    </tr>\n",
              "  </thead>\n",
              "  <tbody>\n",
              "    <tr>\n",
              "      <th>count</th>\n",
              "      <td>5000.000000</td>\n",
              "    </tr>\n",
              "    <tr>\n",
              "      <th>mean</th>\n",
              "      <td>1.910000</td>\n",
              "    </tr>\n",
              "    <tr>\n",
              "      <th>std</th>\n",
              "      <td>0.838594</td>\n",
              "    </tr>\n",
              "    <tr>\n",
              "      <th>min</th>\n",
              "      <td>0.000000</td>\n",
              "    </tr>\n",
              "    <tr>\n",
              "      <th>25%</th>\n",
              "      <td>1.000000</td>\n",
              "    </tr>\n",
              "    <tr>\n",
              "      <th>50%</th>\n",
              "      <td>2.000000</td>\n",
              "    </tr>\n",
              "    <tr>\n",
              "      <th>75%</th>\n",
              "      <td>2.000000</td>\n",
              "    </tr>\n",
              "    <tr>\n",
              "      <th>max</th>\n",
              "      <td>17.000000</td>\n",
              "    </tr>\n",
              "  </tbody>\n",
              "</table>\n",
              "</div>"
            ],
            "text/plain": [
              "             Rooms\n",
              "count  5000.000000\n",
              "mean      1.910000\n",
              "std       0.838594\n",
              "min       0.000000\n",
              "25%       1.000000\n",
              "50%       2.000000\n",
              "75%       2.000000\n",
              "max      17.000000"
            ]
          },
          "metadata": {
            "tags": []
          },
          "execution_count": 35
        }
      ]
    },
    {
      "cell_type": "code",
      "metadata": {
        "id": "QGVxzYLQuT1v",
        "colab": {
          "base_uri": "https://localhost:8080/"
        },
        "outputId": "abecdf48-7ffe-491b-af8e-fa5b7c7bf8f2"
      },
      "source": [
        "train_ds['Rooms'].median(), test_ds['Rooms'].median()"
      ],
      "execution_count": null,
      "outputs": [
        {
          "output_type": "execute_result",
          "data": {
            "text/plain": [
              "(2.0, 2.0)"
            ]
          },
          "metadata": {
            "tags": []
          },
          "execution_count": 36
        }
      ]
    },
    {
      "cell_type": "code",
      "metadata": {
        "id": "gnsNX_6-uT4L"
      },
      "source": [
        "train_ds.loc[(train_ds['Rooms'] > 5)|(train_ds['Rooms'] == 0), 'Rooms'] = train_ds['Rooms'].median()\n",
        "test_ds.loc[(test_ds['Rooms'] > 5)|(test_ds['Rooms'] == 0), 'Rooms'] = test_ds['Rooms'].median()"
      ],
      "execution_count": null,
      "outputs": []
    },
    {
      "cell_type": "markdown",
      "metadata": {
        "id": "pL_FllLGMNco"
      },
      "source": [
        "**LifeSquare, KitchenSquare, Square**"
      ]
    },
    {
      "cell_type": "code",
      "metadata": {
        "id": "kU-PVkjWuT6w",
        "colab": {
          "base_uri": "https://localhost:8080/",
          "height": 297
        },
        "outputId": "3fc06a2e-1c67-495e-fc23-377e1f5ac0be"
      },
      "source": [
        "train_ds[['Square', 'LifeSquare', 'KitchenSquare']].describe()"
      ],
      "execution_count": null,
      "outputs": [
        {
          "output_type": "execute_result",
          "data": {
            "text/html": [
              "<div>\n",
              "<style scoped>\n",
              "    .dataframe tbody tr th:only-of-type {\n",
              "        vertical-align: middle;\n",
              "    }\n",
              "\n",
              "    .dataframe tbody tr th {\n",
              "        vertical-align: top;\n",
              "    }\n",
              "\n",
              "    .dataframe thead th {\n",
              "        text-align: right;\n",
              "    }\n",
              "</style>\n",
              "<table border=\"1\" class=\"dataframe\">\n",
              "  <thead>\n",
              "    <tr style=\"text-align: right;\">\n",
              "      <th></th>\n",
              "      <th>Square</th>\n",
              "      <th>LifeSquare</th>\n",
              "      <th>KitchenSquare</th>\n",
              "    </tr>\n",
              "  </thead>\n",
              "  <tbody>\n",
              "    <tr>\n",
              "      <th>count</th>\n",
              "      <td>10000.000000</td>\n",
              "      <td>10000.000000</td>\n",
              "      <td>10000.000000</td>\n",
              "    </tr>\n",
              "    <tr>\n",
              "      <th>mean</th>\n",
              "      <td>56.315775</td>\n",
              "      <td>41.799474</td>\n",
              "      <td>6.273300</td>\n",
              "    </tr>\n",
              "    <tr>\n",
              "      <th>std</th>\n",
              "      <td>21.058732</td>\n",
              "      <td>77.823543</td>\n",
              "      <td>28.560917</td>\n",
              "    </tr>\n",
              "    <tr>\n",
              "      <th>min</th>\n",
              "      <td>1.136859</td>\n",
              "      <td>0.370619</td>\n",
              "      <td>0.000000</td>\n",
              "    </tr>\n",
              "    <tr>\n",
              "      <th>25%</th>\n",
              "      <td>41.774881</td>\n",
              "      <td>25.494155</td>\n",
              "      <td>1.000000</td>\n",
              "    </tr>\n",
              "    <tr>\n",
              "      <th>50%</th>\n",
              "      <td>52.513310</td>\n",
              "      <td>37.040829</td>\n",
              "      <td>6.000000</td>\n",
              "    </tr>\n",
              "    <tr>\n",
              "      <th>75%</th>\n",
              "      <td>65.900625</td>\n",
              "      <td>49.823229</td>\n",
              "      <td>9.000000</td>\n",
              "    </tr>\n",
              "    <tr>\n",
              "      <th>max</th>\n",
              "      <td>641.065193</td>\n",
              "      <td>7480.592129</td>\n",
              "      <td>2014.000000</td>\n",
              "    </tr>\n",
              "  </tbody>\n",
              "</table>\n",
              "</div>"
            ],
            "text/plain": [
              "             Square    LifeSquare  KitchenSquare\n",
              "count  10000.000000  10000.000000   10000.000000\n",
              "mean      56.315775     41.799474       6.273300\n",
              "std       21.058732     77.823543      28.560917\n",
              "min        1.136859      0.370619       0.000000\n",
              "25%       41.774881     25.494155       1.000000\n",
              "50%       52.513310     37.040829       6.000000\n",
              "75%       65.900625     49.823229       9.000000\n",
              "max      641.065193   7480.592129    2014.000000"
            ]
          },
          "metadata": {
            "tags": []
          },
          "execution_count": 38
        }
      ]
    },
    {
      "cell_type": "code",
      "metadata": {
        "id": "c4dbUc2euZ9O",
        "colab": {
          "base_uri": "https://localhost:8080/",
          "height": 441
        },
        "outputId": "f643392d-ac97-46bc-ddb6-597a632ad66b"
      },
      "source": [
        "sns.jointplot(train_ds['LifeSquare'], train_ds['Square'], kind='scatter', height=6);"
      ],
      "execution_count": null,
      "outputs": [
        {
          "output_type": "display_data",
          "data": {
            "image/png": "[encoded data removed]",
            "text/plain": [
              "<Figure size 432x432 with 3 Axes>"
            ]
          },
          "metadata": {
            "tags": [],
            "needs_background": "light"
          }
        }
      ]
    },
    {
      "cell_type": "code",
      "metadata": {
        "id": "Ct-0fid0uZ_r",
        "colab": {
          "base_uri": "https://localhost:8080/",
          "height": 441
        },
        "outputId": "8224a052-adf0-45e5-844e-986d1232eab5"
      },
      "source": [
        "sns.jointplot(train_ds['KitchenSquare'], train_ds['Square'], kind='scatter', height=6);"
      ],
      "execution_count": null,
      "outputs": [
        {
          "output_type": "display_data",
          "data": {
            "image/png": "[encoded data removed]",
            "text/plain": [
              "<Figure size 432x432 with 3 Axes>"
            ]
          },
          "metadata": {
            "tags": [],
            "needs_background": "light"
          }
        }
      ]
    },
    {
      "cell_type": "code",
      "metadata": {
        "id": "aiFPGS9yuaCK",
        "colab": {
          "base_uri": "https://localhost:8080/",
          "height": 596
        },
        "outputId": "c173854c-fe8f-4e8d-975a-39b6035d18f3"
      },
      "source": [
        "train_ds.loc[(train_ds['Square'] > 250) | (train_ds['Square'] < 10), :]"
      ],
      "execution_count": null,
      "outputs": [
        {
          "output_type": "execute_result",
          "data": {
            "text/html": [
              "<div>\n",
              "<style scoped>\n",
              "    .dataframe tbody tr th:only-of-type {\n",
              "        vertical-align: middle;\n",
              "    }\n",
              "\n",
              "    .dataframe tbody tr th {\n",
              "        vertical-align: top;\n",
              "    }\n",
              "\n",
              "    .dataframe thead th {\n",
              "        text-align: right;\n",
              "    }\n",
              "</style>\n",
              "<table border=\"1\" class=\"dataframe\">\n",
              "  <thead>\n",
              "    <tr style=\"text-align: right;\">\n",
              "      <th></th>\n",
              "      <th>DistrictId</th>\n",
              "      <th>Rooms</th>\n",
              "      <th>Square</th>\n",
              "      <th>LifeSquare</th>\n",
              "      <th>KitchenSquare</th>\n",
              "      <th>Floor</th>\n",
              "      <th>HouseFloor</th>\n",
              "      <th>HouseYear</th>\n",
              "      <th>Ecology_1</th>\n",
              "      <th>Ecology_2</th>\n",
              "      <th>Ecology_3</th>\n",
              "      <th>Social_1</th>\n",
              "      <th>Social_2</th>\n",
              "      <th>Social_3</th>\n",
              "      <th>Healthcare_1</th>\n",
              "      <th>Helthcare_2</th>\n",
              "      <th>Shops_1</th>\n",
              "      <th>Shops_2</th>\n",
              "      <th>Price</th>\n",
              "    </tr>\n",
              "    <tr>\n",
              "      <th>Id</th>\n",
              "      <th></th>\n",
              "      <th></th>\n",
              "      <th></th>\n",
              "      <th></th>\n",
              "      <th></th>\n",
              "      <th></th>\n",
              "      <th></th>\n",
              "      <th></th>\n",
              "      <th></th>\n",
              "      <th></th>\n",
              "      <th></th>\n",
              "      <th></th>\n",
              "      <th></th>\n",
              "      <th></th>\n",
              "      <th></th>\n",
              "      <th></th>\n",
              "      <th></th>\n",
              "      <th></th>\n",
              "      <th></th>\n",
              "    </tr>\n",
              "  </thead>\n",
              "  <tbody>\n",
              "    <tr>\n",
              "      <th>1748</th>\n",
              "      <td>88</td>\n",
              "      <td>2.0</td>\n",
              "      <td>5.497061</td>\n",
              "      <td>67.628717</td>\n",
              "      <td>1.0</td>\n",
              "      <td>24</td>\n",
              "      <td>22.0</td>\n",
              "      <td>1977</td>\n",
              "      <td>0.127376</td>\n",
              "      <td>1</td>\n",
              "      <td>1</td>\n",
              "      <td>43</td>\n",
              "      <td>8429</td>\n",
              "      <td>3</td>\n",
              "      <td>900.0</td>\n",
              "      <td>3</td>\n",
              "      <td>9</td>\n",
              "      <td>1</td>\n",
              "      <td>412511.088764</td>\n",
              "    </tr>\n",
              "    <tr>\n",
              "      <th>11526</th>\n",
              "      <td>27</td>\n",
              "      <td>1.0</td>\n",
              "      <td>4.633498</td>\n",
              "      <td>1.969969</td>\n",
              "      <td>1.0</td>\n",
              "      <td>18</td>\n",
              "      <td>1.0</td>\n",
              "      <td>1977</td>\n",
              "      <td>0.011654</td>\n",
              "      <td>1</td>\n",
              "      <td>1</td>\n",
              "      <td>4</td>\n",
              "      <td>915</td>\n",
              "      <td>0</td>\n",
              "      <td>900.0</td>\n",
              "      <td>0</td>\n",
              "      <td>0</td>\n",
              "      <td>1</td>\n",
              "      <td>107604.269441</td>\n",
              "    </tr>\n",
              "    <tr>\n",
              "      <th>10202</th>\n",
              "      <td>6</td>\n",
              "      <td>1.0</td>\n",
              "      <td>2.596351</td>\n",
              "      <td>4.604943</td>\n",
              "      <td>1.0</td>\n",
              "      <td>3</td>\n",
              "      <td>25.0</td>\n",
              "      <td>2014</td>\n",
              "      <td>0.243205</td>\n",
              "      <td>1</td>\n",
              "      <td>1</td>\n",
              "      <td>5</td>\n",
              "      <td>1564</td>\n",
              "      <td>0</td>\n",
              "      <td>540.0</td>\n",
              "      <td>0</td>\n",
              "      <td>0</td>\n",
              "      <td>1</td>\n",
              "      <td>137597.601458</td>\n",
              "    </tr>\n",
              "    <tr>\n",
              "      <th>5548</th>\n",
              "      <td>86</td>\n",
              "      <td>5.0</td>\n",
              "      <td>275.645284</td>\n",
              "      <td>233.949309</td>\n",
              "      <td>26.0</td>\n",
              "      <td>12</td>\n",
              "      <td>37.0</td>\n",
              "      <td>2011</td>\n",
              "      <td>0.161976</td>\n",
              "      <td>1</td>\n",
              "      <td>0</td>\n",
              "      <td>31</td>\n",
              "      <td>7010</td>\n",
              "      <td>5</td>\n",
              "      <td>4508.0</td>\n",
              "      <td>3</td>\n",
              "      <td>7</td>\n",
              "      <td>1</td>\n",
              "      <td>455264.882666</td>\n",
              "    </tr>\n",
              "    <tr>\n",
              "      <th>10527</th>\n",
              "      <td>27</td>\n",
              "      <td>1.0</td>\n",
              "      <td>4.380726</td>\n",
              "      <td>40.805837</td>\n",
              "      <td>1.0</td>\n",
              "      <td>10</td>\n",
              "      <td>17.0</td>\n",
              "      <td>2013</td>\n",
              "      <td>0.211401</td>\n",
              "      <td>1</td>\n",
              "      <td>1</td>\n",
              "      <td>9</td>\n",
              "      <td>1892</td>\n",
              "      <td>0</td>\n",
              "      <td>900.0</td>\n",
              "      <td>0</td>\n",
              "      <td>1</td>\n",
              "      <td>1</td>\n",
              "      <td>97560.720383</td>\n",
              "    </tr>\n",
              "    <tr>\n",
              "      <th>9487</th>\n",
              "      <td>5</td>\n",
              "      <td>1.0</td>\n",
              "      <td>5.129222</td>\n",
              "      <td>5.549458</td>\n",
              "      <td>1.0</td>\n",
              "      <td>1</td>\n",
              "      <td>1.0</td>\n",
              "      <td>1977</td>\n",
              "      <td>0.150818</td>\n",
              "      <td>1</td>\n",
              "      <td>1</td>\n",
              "      <td>16</td>\n",
              "      <td>3433</td>\n",
              "      <td>4</td>\n",
              "      <td>2643.0</td>\n",
              "      <td>4</td>\n",
              "      <td>5</td>\n",
              "      <td>1</td>\n",
              "      <td>369472.403061</td>\n",
              "    </tr>\n",
              "    <tr>\n",
              "      <th>28</th>\n",
              "      <td>9</td>\n",
              "      <td>2.0</td>\n",
              "      <td>604.705972</td>\n",
              "      <td>603.705972</td>\n",
              "      <td>1.0</td>\n",
              "      <td>17</td>\n",
              "      <td>18.0</td>\n",
              "      <td>1977</td>\n",
              "      <td>0.161532</td>\n",
              "      <td>1</td>\n",
              "      <td>1</td>\n",
              "      <td>25</td>\n",
              "      <td>5648</td>\n",
              "      <td>1</td>\n",
              "      <td>30.0</td>\n",
              "      <td>2</td>\n",
              "      <td>4</td>\n",
              "      <td>1</td>\n",
              "      <td>187717.242538</td>\n",
              "    </tr>\n",
              "    <tr>\n",
              "      <th>2307</th>\n",
              "      <td>102</td>\n",
              "      <td>1.0</td>\n",
              "      <td>409.425181</td>\n",
              "      <td>410.639749</td>\n",
              "      <td>10.0</td>\n",
              "      <td>4</td>\n",
              "      <td>4.0</td>\n",
              "      <td>2016</td>\n",
              "      <td>0.238617</td>\n",
              "      <td>1</td>\n",
              "      <td>1</td>\n",
              "      <td>26</td>\n",
              "      <td>3889</td>\n",
              "      <td>6</td>\n",
              "      <td>705.0</td>\n",
              "      <td>3</td>\n",
              "      <td>6</td>\n",
              "      <td>1</td>\n",
              "      <td>90470.430830</td>\n",
              "    </tr>\n",
              "    <tr>\n",
              "      <th>3224</th>\n",
              "      <td>27</td>\n",
              "      <td>2.0</td>\n",
              "      <td>2.377248</td>\n",
              "      <td>0.873147</td>\n",
              "      <td>0.0</td>\n",
              "      <td>1</td>\n",
              "      <td>0.0</td>\n",
              "      <td>1977</td>\n",
              "      <td>0.017647</td>\n",
              "      <td>1</td>\n",
              "      <td>1</td>\n",
              "      <td>2</td>\n",
              "      <td>469</td>\n",
              "      <td>0</td>\n",
              "      <td>900.0</td>\n",
              "      <td>0</td>\n",
              "      <td>0</td>\n",
              "      <td>1</td>\n",
              "      <td>126596.941798</td>\n",
              "    </tr>\n",
              "    <tr>\n",
              "      <th>4504</th>\n",
              "      <td>27</td>\n",
              "      <td>3.0</td>\n",
              "      <td>4.390331</td>\n",
              "      <td>5.610772</td>\n",
              "      <td>1.0</td>\n",
              "      <td>8</td>\n",
              "      <td>19.0</td>\n",
              "      <td>2016</td>\n",
              "      <td>0.211401</td>\n",
              "      <td>1</td>\n",
              "      <td>1</td>\n",
              "      <td>9</td>\n",
              "      <td>1892</td>\n",
              "      <td>0</td>\n",
              "      <td>900.0</td>\n",
              "      <td>0</td>\n",
              "      <td>1</td>\n",
              "      <td>1</td>\n",
              "      <td>161379.067034</td>\n",
              "    </tr>\n",
              "    <tr>\n",
              "      <th>14786</th>\n",
              "      <td>1</td>\n",
              "      <td>1.0</td>\n",
              "      <td>1.136859</td>\n",
              "      <td>4.525736</td>\n",
              "      <td>1.0</td>\n",
              "      <td>3</td>\n",
              "      <td>1.0</td>\n",
              "      <td>1977</td>\n",
              "      <td>0.007122</td>\n",
              "      <td>1</td>\n",
              "      <td>1</td>\n",
              "      <td>1</td>\n",
              "      <td>264</td>\n",
              "      <td>0</td>\n",
              "      <td>900.0</td>\n",
              "      <td>0</td>\n",
              "      <td>1</td>\n",
              "      <td>1</td>\n",
              "      <td>181434.825589</td>\n",
              "    </tr>\n",
              "    <tr>\n",
              "      <th>11602</th>\n",
              "      <td>30</td>\n",
              "      <td>2.0</td>\n",
              "      <td>641.065193</td>\n",
              "      <td>638.163193</td>\n",
              "      <td>10.0</td>\n",
              "      <td>20</td>\n",
              "      <td>19.0</td>\n",
              "      <td>2019</td>\n",
              "      <td>0.000078</td>\n",
              "      <td>1</td>\n",
              "      <td>1</td>\n",
              "      <td>22</td>\n",
              "      <td>6398</td>\n",
              "      <td>141</td>\n",
              "      <td>1046.0</td>\n",
              "      <td>3</td>\n",
              "      <td>23</td>\n",
              "      <td>1</td>\n",
              "      <td>133529.681562</td>\n",
              "    </tr>\n",
              "    <tr>\n",
              "      <th>13265</th>\n",
              "      <td>1</td>\n",
              "      <td>3.0</td>\n",
              "      <td>4.823679</td>\n",
              "      <td>79.767964</td>\n",
              "      <td>0.0</td>\n",
              "      <td>6</td>\n",
              "      <td>17.0</td>\n",
              "      <td>1977</td>\n",
              "      <td>0.007122</td>\n",
              "      <td>1</td>\n",
              "      <td>1</td>\n",
              "      <td>1</td>\n",
              "      <td>264</td>\n",
              "      <td>0</td>\n",
              "      <td>900.0</td>\n",
              "      <td>0</td>\n",
              "      <td>1</td>\n",
              "      <td>1</td>\n",
              "      <td>237716.681261</td>\n",
              "    </tr>\n",
              "    <tr>\n",
              "      <th>15744</th>\n",
              "      <td>34</td>\n",
              "      <td>1.0</td>\n",
              "      <td>1.988943</td>\n",
              "      <td>2.642219</td>\n",
              "      <td>1.0</td>\n",
              "      <td>21</td>\n",
              "      <td>4.0</td>\n",
              "      <td>1977</td>\n",
              "      <td>0.069753</td>\n",
              "      <td>1</td>\n",
              "      <td>1</td>\n",
              "      <td>53</td>\n",
              "      <td>13670</td>\n",
              "      <td>4</td>\n",
              "      <td>900.0</td>\n",
              "      <td>1</td>\n",
              "      <td>11</td>\n",
              "      <td>1</td>\n",
              "      <td>458378.777006</td>\n",
              "    </tr>\n",
              "    <tr>\n",
              "      <th>6782</th>\n",
              "      <td>45</td>\n",
              "      <td>1.0</td>\n",
              "      <td>2.954309</td>\n",
              "      <td>5.257278</td>\n",
              "      <td>1.0</td>\n",
              "      <td>3</td>\n",
              "      <td>1.0</td>\n",
              "      <td>1977</td>\n",
              "      <td>0.195781</td>\n",
              "      <td>1</td>\n",
              "      <td>1</td>\n",
              "      <td>23</td>\n",
              "      <td>5212</td>\n",
              "      <td>6</td>\n",
              "      <td>900.0</td>\n",
              "      <td>3</td>\n",
              "      <td>2</td>\n",
              "      <td>1</td>\n",
              "      <td>438005.182323</td>\n",
              "    </tr>\n",
              "    <tr>\n",
              "      <th>7657</th>\n",
              "      <td>38</td>\n",
              "      <td>1.0</td>\n",
              "      <td>4.502784</td>\n",
              "      <td>4.618547</td>\n",
              "      <td>1.0</td>\n",
              "      <td>28</td>\n",
              "      <td>1.0</td>\n",
              "      <td>1977</td>\n",
              "      <td>0.060753</td>\n",
              "      <td>1</td>\n",
              "      <td>1</td>\n",
              "      <td>15</td>\n",
              "      <td>2787</td>\n",
              "      <td>2</td>\n",
              "      <td>520.0</td>\n",
              "      <td>0</td>\n",
              "      <td>7</td>\n",
              "      <td>1</td>\n",
              "      <td>483283.488083</td>\n",
              "    </tr>\n",
              "  </tbody>\n",
              "</table>\n",
              "</div>"
            ],
            "text/plain": [
              "      DistrictId  Rooms      Square  ...  Shops_1  Shops_2          Price\n",
              "Id                                   ...                                 \n",
              "1748          88    2.0    5.497061  ...        9        1  412511.088764\n",
              "11526         27    1.0    4.633498  ...        0        1  107604.269441\n",
              "10202          6    1.0    2.596351  ...        0        1  137597.601458\n",
              "5548          86    5.0  275.645284  ...        7        1  455264.882666\n",
              "10527         27    1.0    4.380726  ...        1        1   97560.720383\n",
              "9487           5    1.0    5.129222  ...        5        1  369472.403061\n",
              "28             9    2.0  604.705972  ...        4        1  187717.242538\n",
              "2307         102    1.0  409.425181  ...        6        1   90470.430830\n",
              "3224          27    2.0    2.377248  ...        0        1  126596.941798\n",
              "4504          27    3.0    4.390331  ...        1        1  161379.067034\n",
              "14786          1    1.0    1.136859  ...        1        1  181434.825589\n",
              "11602         30    2.0  641.065193  ...       23        1  133529.681562\n",
              "13265          1    3.0    4.823679  ...        1        1  237716.681261\n",
              "15744         34    1.0    1.988943  ...       11        1  458378.777006\n",
              "6782          45    1.0    2.954309  ...        2        1  438005.182323\n",
              "7657          38    1.0    4.502784  ...        7        1  483283.488083\n",
              "\n",
              "[16 rows x 19 columns]"
            ]
          },
          "metadata": {
            "tags": []
          },
          "execution_count": 41
        }
      ]
    },
    {
      "cell_type": "code",
      "metadata": {
        "id": "QiNCiM5JuaEu",
        "colab": {
          "base_uri": "https://localhost:8080/",
          "height": 470
        },
        "outputId": "e3094b6d-7941-4e99-b84a-4975fa877d39"
      },
      "source": [
        "train_ds.loc[(train_ds['LifeSquare'] > 250) | (train_ds['LifeSquare'] > train_ds['Square']), :]\n"
      ],
      "execution_count": null,
      "outputs": [
        {
          "output_type": "execute_result",
          "data": {
            "text/html": [
              "<div>\n",
              "<style scoped>\n",
              "    .dataframe tbody tr th:only-of-type {\n",
              "        vertical-align: middle;\n",
              "    }\n",
              "\n",
              "    .dataframe tbody tr th {\n",
              "        vertical-align: top;\n",
              "    }\n",
              "\n",
              "    .dataframe thead th {\n",
              "        text-align: right;\n",
              "    }\n",
              "</style>\n",
              "<table border=\"1\" class=\"dataframe\">\n",
              "  <thead>\n",
              "    <tr style=\"text-align: right;\">\n",
              "      <th></th>\n",
              "      <th>DistrictId</th>\n",
              "      <th>Rooms</th>\n",
              "      <th>Square</th>\n",
              "      <th>LifeSquare</th>\n",
              "      <th>KitchenSquare</th>\n",
              "      <th>Floor</th>\n",
              "      <th>HouseFloor</th>\n",
              "      <th>HouseYear</th>\n",
              "      <th>Ecology_1</th>\n",
              "      <th>Ecology_2</th>\n",
              "      <th>Ecology_3</th>\n",
              "      <th>Social_1</th>\n",
              "      <th>Social_2</th>\n",
              "      <th>Social_3</th>\n",
              "      <th>Healthcare_1</th>\n",
              "      <th>Helthcare_2</th>\n",
              "      <th>Shops_1</th>\n",
              "      <th>Shops_2</th>\n",
              "      <th>Price</th>\n",
              "    </tr>\n",
              "    <tr>\n",
              "      <th>Id</th>\n",
              "      <th></th>\n",
              "      <th></th>\n",
              "      <th></th>\n",
              "      <th></th>\n",
              "      <th></th>\n",
              "      <th></th>\n",
              "      <th></th>\n",
              "      <th></th>\n",
              "      <th></th>\n",
              "      <th></th>\n",
              "      <th></th>\n",
              "      <th></th>\n",
              "      <th></th>\n",
              "      <th></th>\n",
              "      <th></th>\n",
              "      <th></th>\n",
              "      <th></th>\n",
              "      <th></th>\n",
              "      <th></th>\n",
              "    </tr>\n",
              "  </thead>\n",
              "  <tbody>\n",
              "    <tr>\n",
              "      <th>8054</th>\n",
              "      <td>23</td>\n",
              "      <td>1.0</td>\n",
              "      <td>42.530043</td>\n",
              "      <td>43.967759</td>\n",
              "      <td>1.0</td>\n",
              "      <td>3</td>\n",
              "      <td>9.0</td>\n",
              "      <td>2014</td>\n",
              "      <td>0.034656</td>\n",
              "      <td>1</td>\n",
              "      <td>1</td>\n",
              "      <td>0</td>\n",
              "      <td>168</td>\n",
              "      <td>0</td>\n",
              "      <td>900.0</td>\n",
              "      <td>0</td>\n",
              "      <td>0</td>\n",
              "      <td>1</td>\n",
              "      <td>95338.198549</td>\n",
              "    </tr>\n",
              "    <tr>\n",
              "      <th>10521</th>\n",
              "      <td>38</td>\n",
              "      <td>3.0</td>\n",
              "      <td>104.211396</td>\n",
              "      <td>106.340403</td>\n",
              "      <td>0.0</td>\n",
              "      <td>20</td>\n",
              "      <td>0.0</td>\n",
              "      <td>2017</td>\n",
              "      <td>0.060753</td>\n",
              "      <td>1</td>\n",
              "      <td>1</td>\n",
              "      <td>15</td>\n",
              "      <td>2787</td>\n",
              "      <td>2</td>\n",
              "      <td>520.0</td>\n",
              "      <td>0</td>\n",
              "      <td>7</td>\n",
              "      <td>1</td>\n",
              "      <td>435462.048070</td>\n",
              "    </tr>\n",
              "    <tr>\n",
              "      <th>2301</th>\n",
              "      <td>1</td>\n",
              "      <td>2.0</td>\n",
              "      <td>61.400054</td>\n",
              "      <td>65.224603</td>\n",
              "      <td>0.0</td>\n",
              "      <td>17</td>\n",
              "      <td>22.0</td>\n",
              "      <td>2016</td>\n",
              "      <td>0.007122</td>\n",
              "      <td>1</td>\n",
              "      <td>1</td>\n",
              "      <td>1</td>\n",
              "      <td>264</td>\n",
              "      <td>0</td>\n",
              "      <td>900.0</td>\n",
              "      <td>0</td>\n",
              "      <td>1</td>\n",
              "      <td>1</td>\n",
              "      <td>199215.452229</td>\n",
              "    </tr>\n",
              "    <tr>\n",
              "      <th>8753</th>\n",
              "      <td>25</td>\n",
              "      <td>3.0</td>\n",
              "      <td>85.952306</td>\n",
              "      <td>89.803753</td>\n",
              "      <td>1.0</td>\n",
              "      <td>4</td>\n",
              "      <td>3.0</td>\n",
              "      <td>2017</td>\n",
              "      <td>0.069753</td>\n",
              "      <td>1</td>\n",
              "      <td>1</td>\n",
              "      <td>53</td>\n",
              "      <td>13670</td>\n",
              "      <td>4</td>\n",
              "      <td>900.0</td>\n",
              "      <td>1</td>\n",
              "      <td>11</td>\n",
              "      <td>1</td>\n",
              "      <td>309688.592681</td>\n",
              "    </tr>\n",
              "    <tr>\n",
              "      <th>9870</th>\n",
              "      <td>62</td>\n",
              "      <td>1.0</td>\n",
              "      <td>51.831473</td>\n",
              "      <td>53.491301</td>\n",
              "      <td>1.0</td>\n",
              "      <td>5</td>\n",
              "      <td>1.0</td>\n",
              "      <td>2015</td>\n",
              "      <td>0.072158</td>\n",
              "      <td>1</td>\n",
              "      <td>1</td>\n",
              "      <td>2</td>\n",
              "      <td>629</td>\n",
              "      <td>1</td>\n",
              "      <td>900.0</td>\n",
              "      <td>0</td>\n",
              "      <td>0</td>\n",
              "      <td>0</td>\n",
              "      <td>131797.472284</td>\n",
              "    </tr>\n",
              "    <tr>\n",
              "      <th>...</th>\n",
              "      <td>...</td>\n",
              "      <td>...</td>\n",
              "      <td>...</td>\n",
              "      <td>...</td>\n",
              "      <td>...</td>\n",
              "      <td>...</td>\n",
              "      <td>...</td>\n",
              "      <td>...</td>\n",
              "      <td>...</td>\n",
              "      <td>...</td>\n",
              "      <td>...</td>\n",
              "      <td>...</td>\n",
              "      <td>...</td>\n",
              "      <td>...</td>\n",
              "      <td>...</td>\n",
              "      <td>...</td>\n",
              "      <td>...</td>\n",
              "      <td>...</td>\n",
              "      <td>...</td>\n",
              "    </tr>\n",
              "    <tr>\n",
              "      <th>41</th>\n",
              "      <td>30</td>\n",
              "      <td>2.0</td>\n",
              "      <td>59.015896</td>\n",
              "      <td>59.439082</td>\n",
              "      <td>12.0</td>\n",
              "      <td>5</td>\n",
              "      <td>5.0</td>\n",
              "      <td>2016</td>\n",
              "      <td>0.000078</td>\n",
              "      <td>1</td>\n",
              "      <td>1</td>\n",
              "      <td>22</td>\n",
              "      <td>6398</td>\n",
              "      <td>141</td>\n",
              "      <td>1046.0</td>\n",
              "      <td>3</td>\n",
              "      <td>23</td>\n",
              "      <td>1</td>\n",
              "      <td>126281.142781</td>\n",
              "    </tr>\n",
              "    <tr>\n",
              "      <th>12918</th>\n",
              "      <td>23</td>\n",
              "      <td>2.0</td>\n",
              "      <td>51.440463</td>\n",
              "      <td>53.134243</td>\n",
              "      <td>51.0</td>\n",
              "      <td>3</td>\n",
              "      <td>17.0</td>\n",
              "      <td>2017</td>\n",
              "      <td>0.005767</td>\n",
              "      <td>1</td>\n",
              "      <td>1</td>\n",
              "      <td>1</td>\n",
              "      <td>388</td>\n",
              "      <td>0</td>\n",
              "      <td>900.0</td>\n",
              "      <td>0</td>\n",
              "      <td>0</td>\n",
              "      <td>1</td>\n",
              "      <td>88150.012510</td>\n",
              "    </tr>\n",
              "    <tr>\n",
              "      <th>2737</th>\n",
              "      <td>27</td>\n",
              "      <td>3.0</td>\n",
              "      <td>123.430072</td>\n",
              "      <td>125.806981</td>\n",
              "      <td>123.0</td>\n",
              "      <td>5</td>\n",
              "      <td>10.0</td>\n",
              "      <td>2015</td>\n",
              "      <td>0.017647</td>\n",
              "      <td>1</td>\n",
              "      <td>1</td>\n",
              "      <td>2</td>\n",
              "      <td>469</td>\n",
              "      <td>0</td>\n",
              "      <td>900.0</td>\n",
              "      <td>0</td>\n",
              "      <td>0</td>\n",
              "      <td>1</td>\n",
              "      <td>234194.837047</td>\n",
              "    </tr>\n",
              "    <tr>\n",
              "      <th>14001</th>\n",
              "      <td>73</td>\n",
              "      <td>1.0</td>\n",
              "      <td>44.098768</td>\n",
              "      <td>44.267551</td>\n",
              "      <td>1.0</td>\n",
              "      <td>7</td>\n",
              "      <td>24.0</td>\n",
              "      <td>2014</td>\n",
              "      <td>0.042032</td>\n",
              "      <td>1</td>\n",
              "      <td>1</td>\n",
              "      <td>37</td>\n",
              "      <td>6856</td>\n",
              "      <td>84</td>\n",
              "      <td>1940.0</td>\n",
              "      <td>2</td>\n",
              "      <td>5</td>\n",
              "      <td>1</td>\n",
              "      <td>381937.404161</td>\n",
              "    </tr>\n",
              "    <tr>\n",
              "      <th>16568</th>\n",
              "      <td>27</td>\n",
              "      <td>4.0</td>\n",
              "      <td>200.334539</td>\n",
              "      <td>201.627361</td>\n",
              "      <td>25.0</td>\n",
              "      <td>1</td>\n",
              "      <td>2.0</td>\n",
              "      <td>2013</td>\n",
              "      <td>0.041116</td>\n",
              "      <td>1</td>\n",
              "      <td>1</td>\n",
              "      <td>53</td>\n",
              "      <td>14892</td>\n",
              "      <td>4</td>\n",
              "      <td>900.0</td>\n",
              "      <td>1</td>\n",
              "      <td>4</td>\n",
              "      <td>1</td>\n",
              "      <td>528560.506016</td>\n",
              "    </tr>\n",
              "  </tbody>\n",
              "</table>\n",
              "<p>484 rows × 19 columns</p>\n",
              "</div>"
            ],
            "text/plain": [
              "      DistrictId  Rooms      Square  ...  Shops_1  Shops_2          Price\n",
              "Id                                   ...                                 \n",
              "8054          23    1.0   42.530043  ...        0        1   95338.198549\n",
              "10521         38    3.0  104.211396  ...        7        1  435462.048070\n",
              "2301           1    2.0   61.400054  ...        1        1  199215.452229\n",
              "8753          25    3.0   85.952306  ...       11        1  309688.592681\n",
              "9870          62    1.0   51.831473  ...        0        0  131797.472284\n",
              "...          ...    ...         ...  ...      ...      ...            ...\n",
              "41            30    2.0   59.015896  ...       23        1  126281.142781\n",
              "12918         23    2.0   51.440463  ...        0        1   88150.012510\n",
              "2737          27    3.0  123.430072  ...        0        1  234194.837047\n",
              "14001         73    1.0   44.098768  ...        5        1  381937.404161\n",
              "16568         27    4.0  200.334539  ...        4        1  528560.506016\n",
              "\n",
              "[484 rows x 19 columns]"
            ]
          },
          "metadata": {
            "tags": []
          },
          "execution_count": 42
        }
      ]
    },
    {
      "cell_type": "code",
      "metadata": {
        "id": "Yr0Z4JCuuaHZ",
        "colab": {
          "base_uri": "https://localhost:8080/",
          "height": 224
        },
        "outputId": "33590512-d51a-42c5-ec78-32fd55b1572d"
      },
      "source": [
        "train_ds.loc[(train_ds['KitchenSquare'] > 240) | (train_ds['KitchenSquare'] > train_ds['Square']), :]"
      ],
      "execution_count": null,
      "outputs": [
        {
          "output_type": "execute_result",
          "data": {
            "text/html": [
              "<div>\n",
              "<style scoped>\n",
              "    .dataframe tbody tr th:only-of-type {\n",
              "        vertical-align: middle;\n",
              "    }\n",
              "\n",
              "    .dataframe tbody tr th {\n",
              "        vertical-align: top;\n",
              "    }\n",
              "\n",
              "    .dataframe thead th {\n",
              "        text-align: right;\n",
              "    }\n",
              "</style>\n",
              "<table border=\"1\" class=\"dataframe\">\n",
              "  <thead>\n",
              "    <tr style=\"text-align: right;\">\n",
              "      <th></th>\n",
              "      <th>DistrictId</th>\n",
              "      <th>Rooms</th>\n",
              "      <th>Square</th>\n",
              "      <th>LifeSquare</th>\n",
              "      <th>KitchenSquare</th>\n",
              "      <th>Floor</th>\n",
              "      <th>HouseFloor</th>\n",
              "      <th>HouseYear</th>\n",
              "      <th>Ecology_1</th>\n",
              "      <th>Ecology_2</th>\n",
              "      <th>Ecology_3</th>\n",
              "      <th>Social_1</th>\n",
              "      <th>Social_2</th>\n",
              "      <th>Social_3</th>\n",
              "      <th>Healthcare_1</th>\n",
              "      <th>Helthcare_2</th>\n",
              "      <th>Shops_1</th>\n",
              "      <th>Shops_2</th>\n",
              "      <th>Price</th>\n",
              "    </tr>\n",
              "    <tr>\n",
              "      <th>Id</th>\n",
              "      <th></th>\n",
              "      <th></th>\n",
              "      <th></th>\n",
              "      <th></th>\n",
              "      <th></th>\n",
              "      <th></th>\n",
              "      <th></th>\n",
              "      <th></th>\n",
              "      <th></th>\n",
              "      <th></th>\n",
              "      <th></th>\n",
              "      <th></th>\n",
              "      <th></th>\n",
              "      <th></th>\n",
              "      <th></th>\n",
              "      <th></th>\n",
              "      <th></th>\n",
              "      <th></th>\n",
              "      <th></th>\n",
              "    </tr>\n",
              "  </thead>\n",
              "  <tbody>\n",
              "    <tr>\n",
              "      <th>14656</th>\n",
              "      <td>62</td>\n",
              "      <td>1.0</td>\n",
              "      <td>47.100719</td>\n",
              "      <td>46.447960</td>\n",
              "      <td>2014.0</td>\n",
              "      <td>4</td>\n",
              "      <td>1.0</td>\n",
              "      <td>2014</td>\n",
              "      <td>0.072158</td>\n",
              "      <td>1</td>\n",
              "      <td>1</td>\n",
              "      <td>2</td>\n",
              "      <td>629</td>\n",
              "      <td>1</td>\n",
              "      <td>900.0</td>\n",
              "      <td>0</td>\n",
              "      <td>0</td>\n",
              "      <td>0</td>\n",
              "      <td>108337.484207</td>\n",
              "    </tr>\n",
              "    <tr>\n",
              "      <th>13703</th>\n",
              "      <td>42</td>\n",
              "      <td>1.0</td>\n",
              "      <td>38.071692</td>\n",
              "      <td>19.723548</td>\n",
              "      <td>73.0</td>\n",
              "      <td>9</td>\n",
              "      <td>10.0</td>\n",
              "      <td>2006</td>\n",
              "      <td>0.158249</td>\n",
              "      <td>1</td>\n",
              "      <td>1</td>\n",
              "      <td>21</td>\n",
              "      <td>5731</td>\n",
              "      <td>0</td>\n",
              "      <td>900.0</td>\n",
              "      <td>1</td>\n",
              "      <td>0</td>\n",
              "      <td>1</td>\n",
              "      <td>160488.033165</td>\n",
              "    </tr>\n",
              "    <tr>\n",
              "      <th>6569</th>\n",
              "      <td>27</td>\n",
              "      <td>1.0</td>\n",
              "      <td>38.220258</td>\n",
              "      <td>18.716856</td>\n",
              "      <td>84.0</td>\n",
              "      <td>4</td>\n",
              "      <td>17.0</td>\n",
              "      <td>2018</td>\n",
              "      <td>0.011654</td>\n",
              "      <td>1</td>\n",
              "      <td>1</td>\n",
              "      <td>4</td>\n",
              "      <td>915</td>\n",
              "      <td>0</td>\n",
              "      <td>900.0</td>\n",
              "      <td>0</td>\n",
              "      <td>0</td>\n",
              "      <td>1</td>\n",
              "      <td>99079.960518</td>\n",
              "    </tr>\n",
              "    <tr>\n",
              "      <th>14679</th>\n",
              "      <td>81</td>\n",
              "      <td>1.0</td>\n",
              "      <td>32.276663</td>\n",
              "      <td>19.278394</td>\n",
              "      <td>1970.0</td>\n",
              "      <td>6</td>\n",
              "      <td>1.0</td>\n",
              "      <td>1977</td>\n",
              "      <td>0.006076</td>\n",
              "      <td>1</td>\n",
              "      <td>1</td>\n",
              "      <td>30</td>\n",
              "      <td>5285</td>\n",
              "      <td>0</td>\n",
              "      <td>645.0</td>\n",
              "      <td>6</td>\n",
              "      <td>6</td>\n",
              "      <td>1</td>\n",
              "      <td>105539.556275</td>\n",
              "    </tr>\n",
              "  </tbody>\n",
              "</table>\n",
              "</div>"
            ],
            "text/plain": [
              "      DistrictId  Rooms     Square  ...  Shops_1  Shops_2          Price\n",
              "Id                                  ...                                 \n",
              "14656         62    1.0  47.100719  ...        0        0  108337.484207\n",
              "13703         42    1.0  38.071692  ...        0        1  160488.033165\n",
              "6569          27    1.0  38.220258  ...        0        1   99079.960518\n",
              "14679         81    1.0  32.276663  ...        6        1  105539.556275\n",
              "\n",
              "[4 rows x 19 columns]"
            ]
          },
          "metadata": {
            "tags": []
          },
          "execution_count": 43
        }
      ]
    },
    {
      "cell_type": "code",
      "metadata": {
        "id": "CZNe9b4CuaJz"
      },
      "source": [
        "train_ds.loc[(train_ds['Square'] > 250) | (train_ds['Square'] < 10), 'Square'] = train_ds['Square'].median()\n",
        "\n",
        "test_ds.loc[(test_ds['Square'] > 250) | (test_ds['Square'] < 10), 'Square'] = test_ds['Square'].median()"
      ],
      "execution_count": null,
      "outputs": []
    },
    {
      "cell_type": "code",
      "metadata": {
        "id": "xkfLajhFuaM7"
      },
      "source": [
        "train_ds.loc[(train_ds['LifeSquare'] > 250) | (train_ds['LifeSquare'] > train_ds['Square']), 'LifeSquare'] = train_ds['LifeSquare'].median()\n",
        "\n",
        "test_ds.loc[(test_ds['LifeSquare'] > 250) | (test_ds['LifeSquare'] > test_ds['Square']), 'LifeSquare'] = test_ds['LifeSquare'].median()"
      ],
      "execution_count": null,
      "outputs": []
    },
    {
      "cell_type": "code",
      "metadata": {
        "id": "jbwuWTyauoqj"
      },
      "source": [
        "train_ds.loc[(train_ds['KitchenSquare'] > 240) | (train_ds['KitchenSquare'] > train_ds['Square']), 'KitchenSquare'] = train_ds['KitchenSquare'].median()\n",
        "\n",
        "test_ds.loc[(test_ds['KitchenSquare'] > 240) | (test_ds['KitchenSquare'] > test_ds['Square']), 'KitchenSquare'] = test_ds['KitchenSquare'].median()"
      ],
      "execution_count": null,
      "outputs": []
    },
    {
      "cell_type": "code",
      "metadata": {
        "id": "0z-GRsZduotC",
        "colab": {
          "base_uri": "https://localhost:8080/",
          "height": 297
        },
        "outputId": "d77b1e7b-7006-4071-e46e-3e9697fcc56f"
      },
      "source": [
        "train_ds[['Square', 'LifeSquare', 'KitchenSquare']].describe()"
      ],
      "execution_count": null,
      "outputs": [
        {
          "output_type": "execute_result",
          "data": {
            "text/html": [
              "<div>\n",
              "<style scoped>\n",
              "    .dataframe tbody tr th:only-of-type {\n",
              "        vertical-align: middle;\n",
              "    }\n",
              "\n",
              "    .dataframe tbody tr th {\n",
              "        vertical-align: top;\n",
              "    }\n",
              "\n",
              "    .dataframe thead th {\n",
              "        text-align: right;\n",
              "    }\n",
              "</style>\n",
              "<table border=\"1\" class=\"dataframe\">\n",
              "  <thead>\n",
              "    <tr style=\"text-align: right;\">\n",
              "      <th></th>\n",
              "      <th>Square</th>\n",
              "      <th>LifeSquare</th>\n",
              "      <th>KitchenSquare</th>\n",
              "    </tr>\n",
              "  </thead>\n",
              "  <tbody>\n",
              "    <tr>\n",
              "      <th>count</th>\n",
              "      <td>10000.000000</td>\n",
              "      <td>10000.000000</td>\n",
              "      <td>10000.000000</td>\n",
              "    </tr>\n",
              "    <tr>\n",
              "      <th>mean</th>\n",
              "      <td>56.202271</td>\n",
              "      <td>39.687569</td>\n",
              "      <td>5.861600</td>\n",
              "    </tr>\n",
              "    <tr>\n",
              "      <th>std</th>\n",
              "      <td>18.936795</td>\n",
              "      <td>19.181536</td>\n",
              "      <td>5.070426</td>\n",
              "    </tr>\n",
              "    <tr>\n",
              "      <th>min</th>\n",
              "      <td>13.784865</td>\n",
              "      <td>0.370619</td>\n",
              "      <td>0.000000</td>\n",
              "    </tr>\n",
              "    <tr>\n",
              "      <th>25%</th>\n",
              "      <td>41.794392</td>\n",
              "      <td>25.527399</td>\n",
              "      <td>1.000000</td>\n",
              "    </tr>\n",
              "    <tr>\n",
              "      <th>50%</th>\n",
              "      <td>52.513310</td>\n",
              "      <td>37.040829</td>\n",
              "      <td>6.000000</td>\n",
              "    </tr>\n",
              "    <tr>\n",
              "      <th>75%</th>\n",
              "      <td>65.889256</td>\n",
              "      <td>47.863414</td>\n",
              "      <td>9.000000</td>\n",
              "    </tr>\n",
              "    <tr>\n",
              "      <th>max</th>\n",
              "      <td>212.932361</td>\n",
              "      <td>211.231125</td>\n",
              "      <td>123.000000</td>\n",
              "    </tr>\n",
              "  </tbody>\n",
              "</table>\n",
              "</div>"
            ],
            "text/plain": [
              "             Square    LifeSquare  KitchenSquare\n",
              "count  10000.000000  10000.000000   10000.000000\n",
              "mean      56.202271     39.687569       5.861600\n",
              "std       18.936795     19.181536       5.070426\n",
              "min       13.784865      0.370619       0.000000\n",
              "25%       41.794392     25.527399       1.000000\n",
              "50%       52.513310     37.040829       6.000000\n",
              "75%       65.889256     47.863414       9.000000\n",
              "max      212.932361    211.231125     123.000000"
            ]
          },
          "metadata": {
            "tags": []
          },
          "execution_count": 47
        }
      ]
    },
    {
      "cell_type": "code",
      "metadata": {
        "id": "wNzOWDM4uovv",
        "colab": {
          "base_uri": "https://localhost:8080/",
          "height": 441
        },
        "outputId": "6c8997e6-4bd7-4735-b182-33c6230a579c"
      },
      "source": [
        "sns.jointplot(train_ds['LifeSquare'], train_ds['Square'], kind='scatter', height=6);"
      ],
      "execution_count": null,
      "outputs": [
        {
          "output_type": "display_data",
          "data": {
            "image/png": "[encoded data removed]",
            "text/plain": [
              "<Figure size 432x432 with 3 Axes>"
            ]
          },
          "metadata": {
            "tags": [],
            "needs_background": "light"
          }
        }
      ]
    },
    {
      "cell_type": "code",
      "metadata": {
        "id": "bt5L_eoxuoyn",
        "colab": {
          "base_uri": "https://localhost:8080/",
          "height": 441
        },
        "outputId": "8de6e123-658e-4a86-cb4d-453a79d9da34"
      },
      "source": [
        "sns.jointplot(train_ds['KitchenSquare'], train_ds['Square'], kind='scatter', height=6);"
      ],
      "execution_count": null,
      "outputs": [
        {
          "output_type": "display_data",
          "data": {
            "image/png": "[encoded data removed]",
            "text/plain": [
              "<Figure size 432x432 with 3 Axes>"
            ]
          },
          "metadata": {
            "tags": [],
            "needs_background": "light"
          }
        }
      ]
    },
    {
      "cell_type": "code",
      "metadata": {
        "id": "lbJWFob2uo1N",
        "colab": {
          "base_uri": "https://localhost:8080/",
          "height": 297
        },
        "outputId": "f12ff078-7c70-4110-c1c4-de51d0f9d6a7"
      },
      "source": [
        "train_ds[['Floor', 'HouseFloor']].describe()"
      ],
      "execution_count": null,
      "outputs": [
        {
          "output_type": "execute_result",
          "data": {
            "text/html": [
              "<div>\n",
              "<style scoped>\n",
              "    .dataframe tbody tr th:only-of-type {\n",
              "        vertical-align: middle;\n",
              "    }\n",
              "\n",
              "    .dataframe tbody tr th {\n",
              "        vertical-align: top;\n",
              "    }\n",
              "\n",
              "    .dataframe thead th {\n",
              "        text-align: right;\n",
              "    }\n",
              "</style>\n",
              "<table border=\"1\" class=\"dataframe\">\n",
              "  <thead>\n",
              "    <tr style=\"text-align: right;\">\n",
              "      <th></th>\n",
              "      <th>Floor</th>\n",
              "      <th>HouseFloor</th>\n",
              "    </tr>\n",
              "  </thead>\n",
              "  <tbody>\n",
              "    <tr>\n",
              "      <th>count</th>\n",
              "      <td>10000.000000</td>\n",
              "      <td>10000.000000</td>\n",
              "    </tr>\n",
              "    <tr>\n",
              "      <th>mean</th>\n",
              "      <td>8.526700</td>\n",
              "      <td>12.609400</td>\n",
              "    </tr>\n",
              "    <tr>\n",
              "      <th>std</th>\n",
              "      <td>5.241148</td>\n",
              "      <td>6.775974</td>\n",
              "    </tr>\n",
              "    <tr>\n",
              "      <th>min</th>\n",
              "      <td>1.000000</td>\n",
              "      <td>0.000000</td>\n",
              "    </tr>\n",
              "    <tr>\n",
              "      <th>25%</th>\n",
              "      <td>4.000000</td>\n",
              "      <td>9.000000</td>\n",
              "    </tr>\n",
              "    <tr>\n",
              "      <th>50%</th>\n",
              "      <td>7.000000</td>\n",
              "      <td>13.000000</td>\n",
              "    </tr>\n",
              "    <tr>\n",
              "      <th>75%</th>\n",
              "      <td>12.000000</td>\n",
              "      <td>17.000000</td>\n",
              "    </tr>\n",
              "    <tr>\n",
              "      <th>max</th>\n",
              "      <td>42.000000</td>\n",
              "      <td>117.000000</td>\n",
              "    </tr>\n",
              "  </tbody>\n",
              "</table>\n",
              "</div>"
            ],
            "text/plain": [
              "              Floor    HouseFloor\n",
              "count  10000.000000  10000.000000\n",
              "mean       8.526700     12.609400\n",
              "std        5.241148      6.775974\n",
              "min        1.000000      0.000000\n",
              "25%        4.000000      9.000000\n",
              "50%        7.000000     13.000000\n",
              "75%       12.000000     17.000000\n",
              "max       42.000000    117.000000"
            ]
          },
          "metadata": {
            "tags": []
          },
          "execution_count": 50
        }
      ]
    },
    {
      "cell_type": "code",
      "metadata": {
        "id": "IySXETWYuo3k",
        "colab": {
          "base_uri": "https://localhost:8080/",
          "height": 441
        },
        "outputId": "3ab47878-e82b-4730-ffb4-25b8eab9c169"
      },
      "source": [
        "sns.jointplot(train_ds['Floor'], train_ds['HouseFloor'], kind='scatter', height=6);"
      ],
      "execution_count": null,
      "outputs": [
        {
          "output_type": "display_data",
          "data": {
            "image/png": "[encoded data removed]",
            "text/plain": [
              "<Figure size 432x432 with 3 Axes>"
            ]
          },
          "metadata": {
            "tags": [],
            "needs_background": "light"
          }
        }
      ]
    },
    {
      "cell_type": "code",
      "metadata": {
        "id": "4rxcv-AOuwe7",
        "colab": {
          "base_uri": "https://localhost:8080/",
          "height": 470
        },
        "outputId": "23821337-a302-4fc4-9b74-0429e3de254d"
      },
      "source": [
        "train_ds.loc[(train_ds['Floor'] > train_ds['HouseFloor'] ), :]"
      ],
      "execution_count": null,
      "outputs": [
        {
          "output_type": "execute_result",
          "data": {
            "text/html": [
              "<div>\n",
              "<style scoped>\n",
              "    .dataframe tbody tr th:only-of-type {\n",
              "        vertical-align: middle;\n",
              "    }\n",
              "\n",
              "    .dataframe tbody tr th {\n",
              "        vertical-align: top;\n",
              "    }\n",
              "\n",
              "    .dataframe thead th {\n",
              "        text-align: right;\n",
              "    }\n",
              "</style>\n",
              "<table border=\"1\" class=\"dataframe\">\n",
              "  <thead>\n",
              "    <tr style=\"text-align: right;\">\n",
              "      <th></th>\n",
              "      <th>DistrictId</th>\n",
              "      <th>Rooms</th>\n",
              "      <th>Square</th>\n",
              "      <th>LifeSquare</th>\n",
              "      <th>KitchenSquare</th>\n",
              "      <th>Floor</th>\n",
              "      <th>HouseFloor</th>\n",
              "      <th>HouseYear</th>\n",
              "      <th>Ecology_1</th>\n",
              "      <th>Ecology_2</th>\n",
              "      <th>Ecology_3</th>\n",
              "      <th>Social_1</th>\n",
              "      <th>Social_2</th>\n",
              "      <th>Social_3</th>\n",
              "      <th>Healthcare_1</th>\n",
              "      <th>Helthcare_2</th>\n",
              "      <th>Shops_1</th>\n",
              "      <th>Shops_2</th>\n",
              "      <th>Price</th>\n",
              "    </tr>\n",
              "    <tr>\n",
              "      <th>Id</th>\n",
              "      <th></th>\n",
              "      <th></th>\n",
              "      <th></th>\n",
              "      <th></th>\n",
              "      <th></th>\n",
              "      <th></th>\n",
              "      <th></th>\n",
              "      <th></th>\n",
              "      <th></th>\n",
              "      <th></th>\n",
              "      <th></th>\n",
              "      <th></th>\n",
              "      <th></th>\n",
              "      <th></th>\n",
              "      <th></th>\n",
              "      <th></th>\n",
              "      <th></th>\n",
              "      <th></th>\n",
              "      <th></th>\n",
              "    </tr>\n",
              "  </thead>\n",
              "  <tbody>\n",
              "    <tr>\n",
              "      <th>11993</th>\n",
              "      <td>74</td>\n",
              "      <td>2.0</td>\n",
              "      <td>80.312926</td>\n",
              "      <td>80.312926</td>\n",
              "      <td>0.0</td>\n",
              "      <td>14</td>\n",
              "      <td>0.0</td>\n",
              "      <td>1977</td>\n",
              "      <td>0.075779</td>\n",
              "      <td>1</td>\n",
              "      <td>1</td>\n",
              "      <td>6</td>\n",
              "      <td>1437</td>\n",
              "      <td>3</td>\n",
              "      <td>900.0</td>\n",
              "      <td>0</td>\n",
              "      <td>2</td>\n",
              "      <td>1</td>\n",
              "      <td>221244.156664</td>\n",
              "    </tr>\n",
              "    <tr>\n",
              "      <th>10953</th>\n",
              "      <td>27</td>\n",
              "      <td>1.0</td>\n",
              "      <td>53.769097</td>\n",
              "      <td>52.408027</td>\n",
              "      <td>1.0</td>\n",
              "      <td>5</td>\n",
              "      <td>4.0</td>\n",
              "      <td>1977</td>\n",
              "      <td>0.072158</td>\n",
              "      <td>1</td>\n",
              "      <td>1</td>\n",
              "      <td>2</td>\n",
              "      <td>629</td>\n",
              "      <td>1</td>\n",
              "      <td>900.0</td>\n",
              "      <td>0</td>\n",
              "      <td>0</td>\n",
              "      <td>0</td>\n",
              "      <td>140647.565937</td>\n",
              "    </tr>\n",
              "    <tr>\n",
              "      <th>2119</th>\n",
              "      <td>27</td>\n",
              "      <td>2.0</td>\n",
              "      <td>49.360648</td>\n",
              "      <td>31.993964</td>\n",
              "      <td>5.0</td>\n",
              "      <td>6</td>\n",
              "      <td>5.0</td>\n",
              "      <td>1983</td>\n",
              "      <td>0.051815</td>\n",
              "      <td>1</td>\n",
              "      <td>1</td>\n",
              "      <td>5</td>\n",
              "      <td>1227</td>\n",
              "      <td>0</td>\n",
              "      <td>900.0</td>\n",
              "      <td>0</td>\n",
              "      <td>0</td>\n",
              "      <td>1</td>\n",
              "      <td>117000.381287</td>\n",
              "    </tr>\n",
              "    <tr>\n",
              "      <th>11935</th>\n",
              "      <td>27</td>\n",
              "      <td>2.0</td>\n",
              "      <td>64.711835</td>\n",
              "      <td>63.711835</td>\n",
              "      <td>1.0</td>\n",
              "      <td>15</td>\n",
              "      <td>1.0</td>\n",
              "      <td>1977</td>\n",
              "      <td>0.211401</td>\n",
              "      <td>1</td>\n",
              "      <td>1</td>\n",
              "      <td>9</td>\n",
              "      <td>1892</td>\n",
              "      <td>0</td>\n",
              "      <td>900.0</td>\n",
              "      <td>0</td>\n",
              "      <td>1</td>\n",
              "      <td>1</td>\n",
              "      <td>127200.026511</td>\n",
              "    </tr>\n",
              "    <tr>\n",
              "      <th>6641</th>\n",
              "      <td>54</td>\n",
              "      <td>3.0</td>\n",
              "      <td>118.907612</td>\n",
              "      <td>118.907612</td>\n",
              "      <td>0.0</td>\n",
              "      <td>2</td>\n",
              "      <td>0.0</td>\n",
              "      <td>1977</td>\n",
              "      <td>0.006076</td>\n",
              "      <td>1</td>\n",
              "      <td>1</td>\n",
              "      <td>30</td>\n",
              "      <td>5285</td>\n",
              "      <td>0</td>\n",
              "      <td>645.0</td>\n",
              "      <td>6</td>\n",
              "      <td>6</td>\n",
              "      <td>1</td>\n",
              "      <td>571069.052600</td>\n",
              "    </tr>\n",
              "    <tr>\n",
              "      <th>...</th>\n",
              "      <td>...</td>\n",
              "      <td>...</td>\n",
              "      <td>...</td>\n",
              "      <td>...</td>\n",
              "      <td>...</td>\n",
              "      <td>...</td>\n",
              "      <td>...</td>\n",
              "      <td>...</td>\n",
              "      <td>...</td>\n",
              "      <td>...</td>\n",
              "      <td>...</td>\n",
              "      <td>...</td>\n",
              "      <td>...</td>\n",
              "      <td>...</td>\n",
              "      <td>...</td>\n",
              "      <td>...</td>\n",
              "      <td>...</td>\n",
              "      <td>...</td>\n",
              "      <td>...</td>\n",
              "    </tr>\n",
              "    <tr>\n",
              "      <th>2237</th>\n",
              "      <td>52</td>\n",
              "      <td>3.0</td>\n",
              "      <td>64.074977</td>\n",
              "      <td>47.633428</td>\n",
              "      <td>6.0</td>\n",
              "      <td>11</td>\n",
              "      <td>9.0</td>\n",
              "      <td>1983</td>\n",
              "      <td>0.371149</td>\n",
              "      <td>1</td>\n",
              "      <td>1</td>\n",
              "      <td>34</td>\n",
              "      <td>7065</td>\n",
              "      <td>1</td>\n",
              "      <td>750.0</td>\n",
              "      <td>2</td>\n",
              "      <td>5</td>\n",
              "      <td>1</td>\n",
              "      <td>226434.880156</td>\n",
              "    </tr>\n",
              "    <tr>\n",
              "      <th>16159</th>\n",
              "      <td>27</td>\n",
              "      <td>1.0</td>\n",
              "      <td>38.968338</td>\n",
              "      <td>37.968338</td>\n",
              "      <td>1.0</td>\n",
              "      <td>10</td>\n",
              "      <td>1.0</td>\n",
              "      <td>1977</td>\n",
              "      <td>0.211401</td>\n",
              "      <td>1</td>\n",
              "      <td>1</td>\n",
              "      <td>9</td>\n",
              "      <td>1892</td>\n",
              "      <td>0</td>\n",
              "      <td>900.0</td>\n",
              "      <td>0</td>\n",
              "      <td>1</td>\n",
              "      <td>1</td>\n",
              "      <td>95529.569405</td>\n",
              "    </tr>\n",
              "    <tr>\n",
              "      <th>4145</th>\n",
              "      <td>96</td>\n",
              "      <td>3.0</td>\n",
              "      <td>90.055233</td>\n",
              "      <td>47.860231</td>\n",
              "      <td>11.0</td>\n",
              "      <td>26</td>\n",
              "      <td>24.0</td>\n",
              "      <td>2005</td>\n",
              "      <td>0.041116</td>\n",
              "      <td>1</td>\n",
              "      <td>1</td>\n",
              "      <td>53</td>\n",
              "      <td>14892</td>\n",
              "      <td>4</td>\n",
              "      <td>900.0</td>\n",
              "      <td>1</td>\n",
              "      <td>4</td>\n",
              "      <td>1</td>\n",
              "      <td>441108.911237</td>\n",
              "    </tr>\n",
              "    <tr>\n",
              "      <th>11553</th>\n",
              "      <td>3</td>\n",
              "      <td>3.0</td>\n",
              "      <td>101.622794</td>\n",
              "      <td>51.628780</td>\n",
              "      <td>12.0</td>\n",
              "      <td>18</td>\n",
              "      <td>17.0</td>\n",
              "      <td>2000</td>\n",
              "      <td>0.265089</td>\n",
              "      <td>1</td>\n",
              "      <td>1</td>\n",
              "      <td>37</td>\n",
              "      <td>5288</td>\n",
              "      <td>0</td>\n",
              "      <td>1937.0</td>\n",
              "      <td>3</td>\n",
              "      <td>2</td>\n",
              "      <td>1</td>\n",
              "      <td>212883.501504</td>\n",
              "    </tr>\n",
              "    <tr>\n",
              "      <th>77</th>\n",
              "      <td>32</td>\n",
              "      <td>2.0</td>\n",
              "      <td>50.401785</td>\n",
              "      <td>30.476203</td>\n",
              "      <td>5.0</td>\n",
              "      <td>6</td>\n",
              "      <td>5.0</td>\n",
              "      <td>1968</td>\n",
              "      <td>0.135650</td>\n",
              "      <td>1</td>\n",
              "      <td>1</td>\n",
              "      <td>46</td>\n",
              "      <td>7960</td>\n",
              "      <td>6</td>\n",
              "      <td>350.0</td>\n",
              "      <td>3</td>\n",
              "      <td>11</td>\n",
              "      <td>1</td>\n",
              "      <td>196684.316040</td>\n",
              "    </tr>\n",
              "  </tbody>\n",
              "</table>\n",
              "<p>1825 rows × 19 columns</p>\n",
              "</div>"
            ],
            "text/plain": [
              "      DistrictId  Rooms      Square  ...  Shops_1  Shops_2          Price\n",
              "Id                                   ...                                 \n",
              "11993         74    2.0   80.312926  ...        2        1  221244.156664\n",
              "10953         27    1.0   53.769097  ...        0        0  140647.565937\n",
              "2119          27    2.0   49.360648  ...        0        1  117000.381287\n",
              "11935         27    2.0   64.711835  ...        1        1  127200.026511\n",
              "6641          54    3.0  118.907612  ...        6        1  571069.052600\n",
              "...          ...    ...         ...  ...      ...      ...            ...\n",
              "2237          52    3.0   64.074977  ...        5        1  226434.880156\n",
              "16159         27    1.0   38.968338  ...        1        1   95529.569405\n",
              "4145          96    3.0   90.055233  ...        4        1  441108.911237\n",
              "11553          3    3.0  101.622794  ...        2        1  212883.501504\n",
              "77            32    2.0   50.401785  ...       11        1  196684.316040\n",
              "\n",
              "[1825 rows x 19 columns]"
            ]
          },
          "metadata": {
            "tags": []
          },
          "execution_count": 52
        }
      ]
    },
    {
      "cell_type": "code",
      "metadata": {
        "id": "gLtxPIP9uwhg"
      },
      "source": [
        "train_ds.loc[(train_ds['HouseFloor'] > 55) | (train_ds['HouseFloor'] == 0), 'HouseFloor'] = train_ds['HouseFloor'].median()\n",
        "\n",
        "test_ds.loc[(test_ds['HouseFloor'] > 55) | (test_ds['HouseFloor'] == 0), 'HouseFloor'] = test_ds['HouseFloor'].median()"
      ],
      "execution_count": null,
      "outputs": []
    },
    {
      "cell_type": "code",
      "metadata": {
        "id": "aVcDWBDKuwkA"
      },
      "source": [
        "train_ds.loc[(train_ds['Floor'] > train_ds['HouseFloor']), 'Floor'] = train_ds['Floor'].median()\n",
        "\n",
        "test_ds.loc[(test_ds['Floor'] > test_ds['HouseFloor']), 'Floor'] = test_ds['Floor'].median()"
      ],
      "execution_count": null,
      "outputs": []
    },
    {
      "cell_type": "markdown",
      "metadata": {
        "id": "CnO3-Iw_Cd18"
      },
      "source": [
        "**Сравнение Square и LifeSquare, KitchenSquare**"
      ]
    },
    {
      "cell_type": "code",
      "metadata": {
        "id": "HrARNAKeuwms"
      },
      "source": [
        "square_null = train_ds['Square'] - train_ds['LifeSquare'] - train_ds['KitchenSquare']"
      ],
      "execution_count": null,
      "outputs": []
    },
    {
      "cell_type": "code",
      "metadata": {
        "id": "eagCBMNMuwpY",
        "colab": {
          "base_uri": "https://localhost:8080/",
          "height": 470
        },
        "outputId": "bdd5b419-473e-43a8-f108-4ab058844ace"
      },
      "source": [
        "train_ds.loc[(square_null < 0), :]"
      ],
      "execution_count": null,
      "outputs": [
        {
          "output_type": "execute_result",
          "data": {
            "text/html": [
              "<div>\n",
              "<style scoped>\n",
              "    .dataframe tbody tr th:only-of-type {\n",
              "        vertical-align: middle;\n",
              "    }\n",
              "\n",
              "    .dataframe tbody tr th {\n",
              "        vertical-align: top;\n",
              "    }\n",
              "\n",
              "    .dataframe thead th {\n",
              "        text-align: right;\n",
              "    }\n",
              "</style>\n",
              "<table border=\"1\" class=\"dataframe\">\n",
              "  <thead>\n",
              "    <tr style=\"text-align: right;\">\n",
              "      <th></th>\n",
              "      <th>DistrictId</th>\n",
              "      <th>Rooms</th>\n",
              "      <th>Square</th>\n",
              "      <th>LifeSquare</th>\n",
              "      <th>KitchenSquare</th>\n",
              "      <th>Floor</th>\n",
              "      <th>HouseFloor</th>\n",
              "      <th>HouseYear</th>\n",
              "      <th>Ecology_1</th>\n",
              "      <th>Ecology_2</th>\n",
              "      <th>Ecology_3</th>\n",
              "      <th>Social_1</th>\n",
              "      <th>Social_2</th>\n",
              "      <th>Social_3</th>\n",
              "      <th>Healthcare_1</th>\n",
              "      <th>Helthcare_2</th>\n",
              "      <th>Shops_1</th>\n",
              "      <th>Shops_2</th>\n",
              "      <th>Price</th>\n",
              "    </tr>\n",
              "    <tr>\n",
              "      <th>Id</th>\n",
              "      <th></th>\n",
              "      <th></th>\n",
              "      <th></th>\n",
              "      <th></th>\n",
              "      <th></th>\n",
              "      <th></th>\n",
              "      <th></th>\n",
              "      <th></th>\n",
              "      <th></th>\n",
              "      <th></th>\n",
              "      <th></th>\n",
              "      <th></th>\n",
              "      <th></th>\n",
              "      <th></th>\n",
              "      <th></th>\n",
              "      <th></th>\n",
              "      <th></th>\n",
              "      <th></th>\n",
              "      <th></th>\n",
              "    </tr>\n",
              "  </thead>\n",
              "  <tbody>\n",
              "    <tr>\n",
              "      <th>5809</th>\n",
              "      <td>58</td>\n",
              "      <td>2.0</td>\n",
              "      <td>53.352981</td>\n",
              "      <td>52.731512</td>\n",
              "      <td>9.0</td>\n",
              "      <td>8</td>\n",
              "      <td>17.0</td>\n",
              "      <td>1977</td>\n",
              "      <td>0.437885</td>\n",
              "      <td>1</td>\n",
              "      <td>1</td>\n",
              "      <td>23</td>\n",
              "      <td>5735</td>\n",
              "      <td>3</td>\n",
              "      <td>1084.0</td>\n",
              "      <td>0</td>\n",
              "      <td>5</td>\n",
              "      <td>1</td>\n",
              "      <td>175616.227217</td>\n",
              "    </tr>\n",
              "    <tr>\n",
              "      <th>7596</th>\n",
              "      <td>23</td>\n",
              "      <td>1.0</td>\n",
              "      <td>47.080100</td>\n",
              "      <td>46.807989</td>\n",
              "      <td>12.0</td>\n",
              "      <td>3</td>\n",
              "      <td>9.0</td>\n",
              "      <td>1977</td>\n",
              "      <td>0.014073</td>\n",
              "      <td>1</td>\n",
              "      <td>1</td>\n",
              "      <td>2</td>\n",
              "      <td>475</td>\n",
              "      <td>0</td>\n",
              "      <td>900.0</td>\n",
              "      <td>0</td>\n",
              "      <td>0</td>\n",
              "      <td>1</td>\n",
              "      <td>96029.167877</td>\n",
              "    </tr>\n",
              "    <tr>\n",
              "      <th>6925</th>\n",
              "      <td>27</td>\n",
              "      <td>2.0</td>\n",
              "      <td>64.929103</td>\n",
              "      <td>63.304605</td>\n",
              "      <td>10.0</td>\n",
              "      <td>15</td>\n",
              "      <td>17.0</td>\n",
              "      <td>2016</td>\n",
              "      <td>0.072158</td>\n",
              "      <td>1</td>\n",
              "      <td>1</td>\n",
              "      <td>2</td>\n",
              "      <td>629</td>\n",
              "      <td>1</td>\n",
              "      <td>900.0</td>\n",
              "      <td>0</td>\n",
              "      <td>0</td>\n",
              "      <td>0</td>\n",
              "      <td>228584.001072</td>\n",
              "    </tr>\n",
              "    <tr>\n",
              "      <th>6072</th>\n",
              "      <td>6</td>\n",
              "      <td>1.0</td>\n",
              "      <td>65.102017</td>\n",
              "      <td>64.622603</td>\n",
              "      <td>1.0</td>\n",
              "      <td>7</td>\n",
              "      <td>9.0</td>\n",
              "      <td>2015</td>\n",
              "      <td>0.243205</td>\n",
              "      <td>1</td>\n",
              "      <td>1</td>\n",
              "      <td>5</td>\n",
              "      <td>1564</td>\n",
              "      <td>0</td>\n",
              "      <td>540.0</td>\n",
              "      <td>0</td>\n",
              "      <td>0</td>\n",
              "      <td>1</td>\n",
              "      <td>175899.978284</td>\n",
              "    </tr>\n",
              "    <tr>\n",
              "      <th>6172</th>\n",
              "      <td>27</td>\n",
              "      <td>2.0</td>\n",
              "      <td>92.400007</td>\n",
              "      <td>92.069236</td>\n",
              "      <td>10.0</td>\n",
              "      <td>2</td>\n",
              "      <td>5.0</td>\n",
              "      <td>1977</td>\n",
              "      <td>0.075424</td>\n",
              "      <td>1</td>\n",
              "      <td>1</td>\n",
              "      <td>11</td>\n",
              "      <td>3097</td>\n",
              "      <td>0</td>\n",
              "      <td>900.0</td>\n",
              "      <td>0</td>\n",
              "      <td>0</td>\n",
              "      <td>1</td>\n",
              "      <td>116942.671045</td>\n",
              "    </tr>\n",
              "    <tr>\n",
              "      <th>...</th>\n",
              "      <td>...</td>\n",
              "      <td>...</td>\n",
              "      <td>...</td>\n",
              "      <td>...</td>\n",
              "      <td>...</td>\n",
              "      <td>...</td>\n",
              "      <td>...</td>\n",
              "      <td>...</td>\n",
              "      <td>...</td>\n",
              "      <td>...</td>\n",
              "      <td>...</td>\n",
              "      <td>...</td>\n",
              "      <td>...</td>\n",
              "      <td>...</td>\n",
              "      <td>...</td>\n",
              "      <td>...</td>\n",
              "      <td>...</td>\n",
              "      <td>...</td>\n",
              "      <td>...</td>\n",
              "    </tr>\n",
              "    <tr>\n",
              "      <th>12918</th>\n",
              "      <td>23</td>\n",
              "      <td>2.0</td>\n",
              "      <td>51.440463</td>\n",
              "      <td>37.040829</td>\n",
              "      <td>51.0</td>\n",
              "      <td>3</td>\n",
              "      <td>17.0</td>\n",
              "      <td>2017</td>\n",
              "      <td>0.005767</td>\n",
              "      <td>1</td>\n",
              "      <td>1</td>\n",
              "      <td>1</td>\n",
              "      <td>388</td>\n",
              "      <td>0</td>\n",
              "      <td>900.0</td>\n",
              "      <td>0</td>\n",
              "      <td>0</td>\n",
              "      <td>1</td>\n",
              "      <td>88150.012510</td>\n",
              "    </tr>\n",
              "    <tr>\n",
              "      <th>2737</th>\n",
              "      <td>27</td>\n",
              "      <td>3.0</td>\n",
              "      <td>123.430072</td>\n",
              "      <td>37.040829</td>\n",
              "      <td>123.0</td>\n",
              "      <td>5</td>\n",
              "      <td>10.0</td>\n",
              "      <td>2015</td>\n",
              "      <td>0.017647</td>\n",
              "      <td>1</td>\n",
              "      <td>1</td>\n",
              "      <td>2</td>\n",
              "      <td>469</td>\n",
              "      <td>0</td>\n",
              "      <td>900.0</td>\n",
              "      <td>0</td>\n",
              "      <td>0</td>\n",
              "      <td>1</td>\n",
              "      <td>234194.837047</td>\n",
              "    </tr>\n",
              "    <tr>\n",
              "      <th>4497</th>\n",
              "      <td>1</td>\n",
              "      <td>1.0</td>\n",
              "      <td>38.330353</td>\n",
              "      <td>38.010046</td>\n",
              "      <td>8.0</td>\n",
              "      <td>7</td>\n",
              "      <td>17.0</td>\n",
              "      <td>1991</td>\n",
              "      <td>0.025609</td>\n",
              "      <td>1</td>\n",
              "      <td>1</td>\n",
              "      <td>33</td>\n",
              "      <td>5261</td>\n",
              "      <td>0</td>\n",
              "      <td>240.0</td>\n",
              "      <td>3</td>\n",
              "      <td>1</td>\n",
              "      <td>1</td>\n",
              "      <td>97464.327338</td>\n",
              "    </tr>\n",
              "    <tr>\n",
              "      <th>14904</th>\n",
              "      <td>34</td>\n",
              "      <td>4.0</td>\n",
              "      <td>104.049130</td>\n",
              "      <td>99.788387</td>\n",
              "      <td>10.0</td>\n",
              "      <td>8</td>\n",
              "      <td>25.0</td>\n",
              "      <td>2018</td>\n",
              "      <td>0.069753</td>\n",
              "      <td>1</td>\n",
              "      <td>1</td>\n",
              "      <td>53</td>\n",
              "      <td>13670</td>\n",
              "      <td>4</td>\n",
              "      <td>900.0</td>\n",
              "      <td>1</td>\n",
              "      <td>11</td>\n",
              "      <td>1</td>\n",
              "      <td>411971.106869</td>\n",
              "    </tr>\n",
              "    <tr>\n",
              "      <th>2159</th>\n",
              "      <td>30</td>\n",
              "      <td>1.0</td>\n",
              "      <td>33.227093</td>\n",
              "      <td>32.639166</td>\n",
              "      <td>1.0</td>\n",
              "      <td>4</td>\n",
              "      <td>4.0</td>\n",
              "      <td>2016</td>\n",
              "      <td>0.000078</td>\n",
              "      <td>1</td>\n",
              "      <td>1</td>\n",
              "      <td>22</td>\n",
              "      <td>6398</td>\n",
              "      <td>141</td>\n",
              "      <td>1046.0</td>\n",
              "      <td>3</td>\n",
              "      <td>23</td>\n",
              "      <td>1</td>\n",
              "      <td>65949.315881</td>\n",
              "    </tr>\n",
              "  </tbody>\n",
              "</table>\n",
              "<p>444 rows × 19 columns</p>\n",
              "</div>"
            ],
            "text/plain": [
              "      DistrictId  Rooms      Square  ...  Shops_1  Shops_2          Price\n",
              "Id                                   ...                                 \n",
              "5809          58    2.0   53.352981  ...        5        1  175616.227217\n",
              "7596          23    1.0   47.080100  ...        0        1   96029.167877\n",
              "6925          27    2.0   64.929103  ...        0        0  228584.001072\n",
              "6072           6    1.0   65.102017  ...        0        1  175899.978284\n",
              "6172          27    2.0   92.400007  ...        0        1  116942.671045\n",
              "...          ...    ...         ...  ...      ...      ...            ...\n",
              "12918         23    2.0   51.440463  ...        0        1   88150.012510\n",
              "2737          27    3.0  123.430072  ...        0        1  234194.837047\n",
              "4497           1    1.0   38.330353  ...        1        1   97464.327338\n",
              "14904         34    4.0  104.049130  ...       11        1  411971.106869\n",
              "2159          30    1.0   33.227093  ...       23        1   65949.315881\n",
              "\n",
              "[444 rows x 19 columns]"
            ]
          },
          "metadata": {
            "tags": []
          },
          "execution_count": 56
        }
      ]
    },
    {
      "cell_type": "code",
      "metadata": {
        "id": "5nHqKBXguwsA"
      },
      "source": [
        "train_ds.loc[(square_null < 0), 'Square'] = train_ds['Square'] + abs(square_null)"
      ],
      "execution_count": null,
      "outputs": []
    },
    {
      "cell_type": "code",
      "metadata": {
        "id": "iXAi51Cduwug"
      },
      "source": [
        "square_null_test = test_ds['Square'] - test_ds['LifeSquare'] - test_ds['KitchenSquare']"
      ],
      "execution_count": null,
      "outputs": []
    },
    {
      "cell_type": "code",
      "metadata": {
        "id": "1GH98yluu6J3",
        "colab": {
          "base_uri": "https://localhost:8080/",
          "height": 470
        },
        "outputId": "7b11d99c-77f9-42a4-98b6-150b1106d339"
      },
      "source": [
        "test_ds.loc[(square_null_test < 0), :]"
      ],
      "execution_count": null,
      "outputs": [
        {
          "output_type": "execute_result",
          "data": {
            "text/html": [
              "<div>\n",
              "<style scoped>\n",
              "    .dataframe tbody tr th:only-of-type {\n",
              "        vertical-align: middle;\n",
              "    }\n",
              "\n",
              "    .dataframe tbody tr th {\n",
              "        vertical-align: top;\n",
              "    }\n",
              "\n",
              "    .dataframe thead th {\n",
              "        text-align: right;\n",
              "    }\n",
              "</style>\n",
              "<table border=\"1\" class=\"dataframe\">\n",
              "  <thead>\n",
              "    <tr style=\"text-align: right;\">\n",
              "      <th></th>\n",
              "      <th>DistrictId</th>\n",
              "      <th>Rooms</th>\n",
              "      <th>Square</th>\n",
              "      <th>LifeSquare</th>\n",
              "      <th>KitchenSquare</th>\n",
              "      <th>Floor</th>\n",
              "      <th>HouseFloor</th>\n",
              "      <th>HouseYear</th>\n",
              "      <th>Ecology_1</th>\n",
              "      <th>Ecology_2</th>\n",
              "      <th>Ecology_3</th>\n",
              "      <th>Social_1</th>\n",
              "      <th>Social_2</th>\n",
              "      <th>Social_3</th>\n",
              "      <th>Healthcare_1</th>\n",
              "      <th>Helthcare_2</th>\n",
              "      <th>Shops_1</th>\n",
              "      <th>Shops_2</th>\n",
              "    </tr>\n",
              "    <tr>\n",
              "      <th>Id</th>\n",
              "      <th></th>\n",
              "      <th></th>\n",
              "      <th></th>\n",
              "      <th></th>\n",
              "      <th></th>\n",
              "      <th></th>\n",
              "      <th></th>\n",
              "      <th></th>\n",
              "      <th></th>\n",
              "      <th></th>\n",
              "      <th></th>\n",
              "      <th></th>\n",
              "      <th></th>\n",
              "      <th></th>\n",
              "      <th></th>\n",
              "      <th></th>\n",
              "      <th></th>\n",
              "      <th></th>\n",
              "    </tr>\n",
              "  </thead>\n",
              "  <tbody>\n",
              "    <tr>\n",
              "      <th>5480</th>\n",
              "      <td>190</td>\n",
              "      <td>1.0</td>\n",
              "      <td>13.597819</td>\n",
              "      <td>36.936106</td>\n",
              "      <td>12.0</td>\n",
              "      <td>2</td>\n",
              "      <td>5.0</td>\n",
              "      <td>1909</td>\n",
              "      <td>0.000000</td>\n",
              "      <td>1</td>\n",
              "      <td>1</td>\n",
              "      <td>30</td>\n",
              "      <td>7538</td>\n",
              "      <td>87</td>\n",
              "      <td>4702.0</td>\n",
              "      <td>5</td>\n",
              "      <td>5</td>\n",
              "      <td>1</td>\n",
              "    </tr>\n",
              "    <tr>\n",
              "      <th>891</th>\n",
              "      <td>85</td>\n",
              "      <td>2.0</td>\n",
              "      <td>65.550690</td>\n",
              "      <td>61.689280</td>\n",
              "      <td>10.0</td>\n",
              "      <td>13</td>\n",
              "      <td>22.0</td>\n",
              "      <td>1988</td>\n",
              "      <td>0.037178</td>\n",
              "      <td>1</td>\n",
              "      <td>1</td>\n",
              "      <td>52</td>\n",
              "      <td>11217</td>\n",
              "      <td>1</td>\n",
              "      <td>2300.0</td>\n",
              "      <td>1</td>\n",
              "      <td>7</td>\n",
              "      <td>1</td>\n",
              "    </tr>\n",
              "    <tr>\n",
              "      <th>6624</th>\n",
              "      <td>27</td>\n",
              "      <td>1.0</td>\n",
              "      <td>42.413793</td>\n",
              "      <td>36.936106</td>\n",
              "      <td>10.0</td>\n",
              "      <td>12</td>\n",
              "      <td>17.0</td>\n",
              "      <td>2017</td>\n",
              "      <td>0.011654</td>\n",
              "      <td>1</td>\n",
              "      <td>1</td>\n",
              "      <td>4</td>\n",
              "      <td>915</td>\n",
              "      <td>0</td>\n",
              "      <td>900.0</td>\n",
              "      <td>0</td>\n",
              "      <td>0</td>\n",
              "      <td>1</td>\n",
              "    </tr>\n",
              "    <tr>\n",
              "      <th>9519</th>\n",
              "      <td>62</td>\n",
              "      <td>3.0</td>\n",
              "      <td>81.912997</td>\n",
              "      <td>75.872094</td>\n",
              "      <td>11.0</td>\n",
              "      <td>3</td>\n",
              "      <td>6.0</td>\n",
              "      <td>2015</td>\n",
              "      <td>0.072158</td>\n",
              "      <td>1</td>\n",
              "      <td>1</td>\n",
              "      <td>2</td>\n",
              "      <td>629</td>\n",
              "      <td>1</td>\n",
              "      <td>900.0</td>\n",
              "      <td>0</td>\n",
              "      <td>0</td>\n",
              "      <td>0</td>\n",
              "    </tr>\n",
              "    <tr>\n",
              "      <th>5452</th>\n",
              "      <td>27</td>\n",
              "      <td>1.0</td>\n",
              "      <td>48.587913</td>\n",
              "      <td>42.596190</td>\n",
              "      <td>12.0</td>\n",
              "      <td>7</td>\n",
              "      <td>2.0</td>\n",
              "      <td>2016</td>\n",
              "      <td>0.017647</td>\n",
              "      <td>1</td>\n",
              "      <td>1</td>\n",
              "      <td>2</td>\n",
              "      <td>469</td>\n",
              "      <td>0</td>\n",
              "      <td>900.0</td>\n",
              "      <td>0</td>\n",
              "      <td>0</td>\n",
              "      <td>1</td>\n",
              "    </tr>\n",
              "    <tr>\n",
              "      <th>...</th>\n",
              "      <td>...</td>\n",
              "      <td>...</td>\n",
              "      <td>...</td>\n",
              "      <td>...</td>\n",
              "      <td>...</td>\n",
              "      <td>...</td>\n",
              "      <td>...</td>\n",
              "      <td>...</td>\n",
              "      <td>...</td>\n",
              "      <td>...</td>\n",
              "      <td>...</td>\n",
              "      <td>...</td>\n",
              "      <td>...</td>\n",
              "      <td>...</td>\n",
              "      <td>...</td>\n",
              "      <td>...</td>\n",
              "      <td>...</td>\n",
              "      <td>...</td>\n",
              "    </tr>\n",
              "    <tr>\n",
              "      <th>4141</th>\n",
              "      <td>94</td>\n",
              "      <td>4.0</td>\n",
              "      <td>96.933127</td>\n",
              "      <td>96.282901</td>\n",
              "      <td>8.0</td>\n",
              "      <td>18</td>\n",
              "      <td>22.0</td>\n",
              "      <td>2015</td>\n",
              "      <td>0.282798</td>\n",
              "      <td>1</td>\n",
              "      <td>1</td>\n",
              "      <td>33</td>\n",
              "      <td>8667</td>\n",
              "      <td>2</td>\n",
              "      <td>900.0</td>\n",
              "      <td>0</td>\n",
              "      <td>6</td>\n",
              "      <td>1</td>\n",
              "    </tr>\n",
              "    <tr>\n",
              "      <th>3711</th>\n",
              "      <td>94</td>\n",
              "      <td>1.0</td>\n",
              "      <td>41.281057</td>\n",
              "      <td>36.936106</td>\n",
              "      <td>10.0</td>\n",
              "      <td>13</td>\n",
              "      <td>13.0</td>\n",
              "      <td>2014</td>\n",
              "      <td>0.282798</td>\n",
              "      <td>1</td>\n",
              "      <td>1</td>\n",
              "      <td>33</td>\n",
              "      <td>8667</td>\n",
              "      <td>2</td>\n",
              "      <td>900.0</td>\n",
              "      <td>0</td>\n",
              "      <td>6</td>\n",
              "      <td>1</td>\n",
              "    </tr>\n",
              "    <tr>\n",
              "      <th>5820</th>\n",
              "      <td>94</td>\n",
              "      <td>1.0</td>\n",
              "      <td>33.680382</td>\n",
              "      <td>36.936106</td>\n",
              "      <td>1.0</td>\n",
              "      <td>7</td>\n",
              "      <td>9.0</td>\n",
              "      <td>1972</td>\n",
              "      <td>0.127376</td>\n",
              "      <td>1</td>\n",
              "      <td>1</td>\n",
              "      <td>43</td>\n",
              "      <td>8429</td>\n",
              "      <td>3</td>\n",
              "      <td>900.0</td>\n",
              "      <td>3</td>\n",
              "      <td>9</td>\n",
              "      <td>1</td>\n",
              "    </tr>\n",
              "    <tr>\n",
              "      <th>349</th>\n",
              "      <td>34</td>\n",
              "      <td>3.0</td>\n",
              "      <td>88.136651</td>\n",
              "      <td>85.270989</td>\n",
              "      <td>10.0</td>\n",
              "      <td>12</td>\n",
              "      <td>25.0</td>\n",
              "      <td>2016</td>\n",
              "      <td>0.069753</td>\n",
              "      <td>1</td>\n",
              "      <td>1</td>\n",
              "      <td>53</td>\n",
              "      <td>13670</td>\n",
              "      <td>4</td>\n",
              "      <td>900.0</td>\n",
              "      <td>1</td>\n",
              "      <td>11</td>\n",
              "      <td>1</td>\n",
              "    </tr>\n",
              "    <tr>\n",
              "      <th>14090</th>\n",
              "      <td>2</td>\n",
              "      <td>1.0</td>\n",
              "      <td>39.082641</td>\n",
              "      <td>33.214358</td>\n",
              "      <td>7.0</td>\n",
              "      <td>10</td>\n",
              "      <td>14.0</td>\n",
              "      <td>1970</td>\n",
              "      <td>0.000000</td>\n",
              "      <td>1</td>\n",
              "      <td>1</td>\n",
              "      <td>33</td>\n",
              "      <td>7425</td>\n",
              "      <td>1</td>\n",
              "      <td>900.0</td>\n",
              "      <td>2</td>\n",
              "      <td>5</td>\n",
              "      <td>1</td>\n",
              "    </tr>\n",
              "  </tbody>\n",
              "</table>\n",
              "<p>231 rows × 18 columns</p>\n",
              "</div>"
            ],
            "text/plain": [
              "      DistrictId  Rooms     Square  ...  Helthcare_2  Shops_1  Shops_2\n",
              "Id                                  ...                               \n",
              "5480         190    1.0  13.597819  ...            5        5        1\n",
              "891           85    2.0  65.550690  ...            1        7        1\n",
              "6624          27    1.0  42.413793  ...            0        0        1\n",
              "9519          62    3.0  81.912997  ...            0        0        0\n",
              "5452          27    1.0  48.587913  ...            0        0        1\n",
              "...          ...    ...        ...  ...          ...      ...      ...\n",
              "4141          94    4.0  96.933127  ...            0        6        1\n",
              "3711          94    1.0  41.281057  ...            0        6        1\n",
              "5820          94    1.0  33.680382  ...            3        9        1\n",
              "349           34    3.0  88.136651  ...            1       11        1\n",
              "14090          2    1.0  39.082641  ...            2        5        1\n",
              "\n",
              "[231 rows x 18 columns]"
            ]
          },
          "metadata": {
            "tags": []
          },
          "execution_count": 59
        }
      ]
    },
    {
      "cell_type": "code",
      "metadata": {
        "id": "mBrLtVbiu6Mt"
      },
      "source": [
        "test_ds.loc[(square_null_test < 0), 'Square'] = test_ds['Square'] + abs(square_null_test)"
      ],
      "execution_count": null,
      "outputs": []
    },
    {
      "cell_type": "markdown",
      "metadata": {
        "id": "fnW-qJf_Cico"
      },
      "source": [
        "**Приводим в порядок HouseYear**"
      ]
    },
    {
      "cell_type": "code",
      "metadata": {
        "id": "fESzhdV1u6Pa",
        "colab": {
          "base_uri": "https://localhost:8080/",
          "height": 297
        },
        "outputId": "35516bbd-261f-4bdd-ee8f-70e97b599e3b"
      },
      "source": [
        "train_ds[['HouseYear']].describe()"
      ],
      "execution_count": null,
      "outputs": [
        {
          "output_type": "execute_result",
          "data": {
            "text/html": [
              "<div>\n",
              "<style scoped>\n",
              "    .dataframe tbody tr th:only-of-type {\n",
              "        vertical-align: middle;\n",
              "    }\n",
              "\n",
              "    .dataframe tbody tr th {\n",
              "        vertical-align: top;\n",
              "    }\n",
              "\n",
              "    .dataframe thead th {\n",
              "        text-align: right;\n",
              "    }\n",
              "</style>\n",
              "<table border=\"1\" class=\"dataframe\">\n",
              "  <thead>\n",
              "    <tr style=\"text-align: right;\">\n",
              "      <th></th>\n",
              "      <th>HouseYear</th>\n",
              "    </tr>\n",
              "  </thead>\n",
              "  <tbody>\n",
              "    <tr>\n",
              "      <th>count</th>\n",
              "      <td>1.000000e+04</td>\n",
              "    </tr>\n",
              "    <tr>\n",
              "      <th>mean</th>\n",
              "      <td>3.990166e+03</td>\n",
              "    </tr>\n",
              "    <tr>\n",
              "      <th>std</th>\n",
              "      <td>2.005003e+05</td>\n",
              "    </tr>\n",
              "    <tr>\n",
              "      <th>min</th>\n",
              "      <td>1.910000e+03</td>\n",
              "    </tr>\n",
              "    <tr>\n",
              "      <th>25%</th>\n",
              "      <td>1.974000e+03</td>\n",
              "    </tr>\n",
              "    <tr>\n",
              "      <th>50%</th>\n",
              "      <td>1.977000e+03</td>\n",
              "    </tr>\n",
              "    <tr>\n",
              "      <th>75%</th>\n",
              "      <td>2.001000e+03</td>\n",
              "    </tr>\n",
              "    <tr>\n",
              "      <th>max</th>\n",
              "      <td>2.005201e+07</td>\n",
              "    </tr>\n",
              "  </tbody>\n",
              "</table>\n",
              "</div>"
            ],
            "text/plain": [
              "          HouseYear\n",
              "count  1.000000e+04\n",
              "mean   3.990166e+03\n",
              "std    2.005003e+05\n",
              "min    1.910000e+03\n",
              "25%    1.974000e+03\n",
              "50%    1.977000e+03\n",
              "75%    2.001000e+03\n",
              "max    2.005201e+07"
            ]
          },
          "metadata": {
            "tags": []
          },
          "execution_count": 61
        }
      ]
    },
    {
      "cell_type": "code",
      "metadata": {
        "id": "r50hFE_wu6Ug",
        "colab": {
          "base_uri": "https://localhost:8080/"
        },
        "outputId": "71e879f1-0702-4d52-e306-98cc8d92f46d"
      },
      "source": [
        "train_ds['HouseYear'].sort_values(ascending=False)"
      ],
      "execution_count": null,
      "outputs": [
        {
          "output_type": "execute_result",
          "data": {
            "text/plain": [
              "Id\n",
              "10814    20052011\n",
              "11607        4968\n",
              "6731         2020\n",
              "8892         2020\n",
              "14318        2020\n",
              "           ...   \n",
              "7920         1916\n",
              "6751         1914\n",
              "2085         1912\n",
              "14556        1912\n",
              "13288        1910\n",
              "Name: HouseYear, Length: 10000, dtype: int64"
            ]
          },
          "metadata": {
            "tags": []
          },
          "execution_count": 62
        }
      ]
    },
    {
      "cell_type": "code",
      "metadata": {
        "id": "ioglpXpBu6W1"
      },
      "source": [
        "train_ds.loc[train_ds['HouseYear'] > 2020, 'HouseYear'] = 2020"
      ],
      "execution_count": null,
      "outputs": []
    },
    {
      "cell_type": "code",
      "metadata": {
        "id": "DhKdQPKEu6Si",
        "colab": {
          "base_uri": "https://localhost:8080/",
          "height": 297
        },
        "outputId": "3662a99e-ec48-439d-ec8d-e751c3cb84a0"
      },
      "source": [
        "test_ds[['HouseYear']].describe()"
      ],
      "execution_count": null,
      "outputs": [
        {
          "output_type": "execute_result",
          "data": {
            "text/html": [
              "<div>\n",
              "<style scoped>\n",
              "    .dataframe tbody tr th:only-of-type {\n",
              "        vertical-align: middle;\n",
              "    }\n",
              "\n",
              "    .dataframe tbody tr th {\n",
              "        vertical-align: top;\n",
              "    }\n",
              "\n",
              "    .dataframe thead th {\n",
              "        text-align: right;\n",
              "    }\n",
              "</style>\n",
              "<table border=\"1\" class=\"dataframe\">\n",
              "  <thead>\n",
              "    <tr style=\"text-align: right;\">\n",
              "      <th></th>\n",
              "      <th>HouseYear</th>\n",
              "    </tr>\n",
              "  </thead>\n",
              "  <tbody>\n",
              "    <tr>\n",
              "      <th>count</th>\n",
              "      <td>5000.000000</td>\n",
              "    </tr>\n",
              "    <tr>\n",
              "      <th>mean</th>\n",
              "      <td>1984.392600</td>\n",
              "    </tr>\n",
              "    <tr>\n",
              "      <th>std</th>\n",
              "      <td>18.573149</td>\n",
              "    </tr>\n",
              "    <tr>\n",
              "      <th>min</th>\n",
              "      <td>1908.000000</td>\n",
              "    </tr>\n",
              "    <tr>\n",
              "      <th>25%</th>\n",
              "      <td>1973.000000</td>\n",
              "    </tr>\n",
              "    <tr>\n",
              "      <th>50%</th>\n",
              "      <td>1977.000000</td>\n",
              "    </tr>\n",
              "    <tr>\n",
              "      <th>75%</th>\n",
              "      <td>2000.000000</td>\n",
              "    </tr>\n",
              "    <tr>\n",
              "      <th>max</th>\n",
              "      <td>2020.000000</td>\n",
              "    </tr>\n",
              "  </tbody>\n",
              "</table>\n",
              "</div>"
            ],
            "text/plain": [
              "         HouseYear\n",
              "count  5000.000000\n",
              "mean   1984.392600\n",
              "std      18.573149\n",
              "min    1908.000000\n",
              "25%    1973.000000\n",
              "50%    1977.000000\n",
              "75%    2000.000000\n",
              "max    2020.000000"
            ]
          },
          "metadata": {
            "tags": []
          },
          "execution_count": 64
        }
      ]
    },
    {
      "cell_type": "markdown",
      "metadata": {
        "id": "TqIPEHmtCqEj"
      },
      "source": [
        "**Уникальные признаки**"
      ]
    },
    {
      "cell_type": "code",
      "metadata": {
        "id": "6wepCvZGvDBa"
      },
      "source": [
        "train_ds['PriceMtsq'] = train_ds['Price'] / train_ds['Square']"
      ],
      "execution_count": null,
      "outputs": []
    },
    {
      "cell_type": "code",
      "metadata": {
        "id": "UAgSQlD5vDD7",
        "colab": {
          "base_uri": "https://localhost:8080/"
        },
        "outputId": "a78783c1-8b7f-4ca0-913d-0b623e41858b"
      },
      "source": [
        "train_ds['PriceMtsq'].describe()"
      ],
      "execution_count": null,
      "outputs": [
        {
          "output_type": "execute_result",
          "data": {
            "text/plain": [
              "count    10000.000000\n",
              "mean      3875.243841\n",
              "std       1256.889805\n",
              "min        752.588644\n",
              "25%       2901.534706\n",
              "50%       3892.188575\n",
              "75%       4682.871194\n",
              "max      11854.652892\n",
              "Name: PriceMtsq, dtype: float64"
            ]
          },
          "metadata": {
            "tags": []
          },
          "execution_count": 66
        }
      ]
    },
    {
      "cell_type": "code",
      "metadata": {
        "id": "a4jSHf0QvDGl",
        "colab": {
          "base_uri": "https://localhost:8080/",
          "height": 255
        },
        "outputId": "d5674cc0-86de-4fb7-9c33-56b9dc712992"
      },
      "source": [
        "train_ds.head()"
      ],
      "execution_count": null,
      "outputs": [
        {
          "output_type": "execute_result",
          "data": {
            "text/html": [
              "<div>\n",
              "<style scoped>\n",
              "    .dataframe tbody tr th:only-of-type {\n",
              "        vertical-align: middle;\n",
              "    }\n",
              "\n",
              "    .dataframe tbody tr th {\n",
              "        vertical-align: top;\n",
              "    }\n",
              "\n",
              "    .dataframe thead th {\n",
              "        text-align: right;\n",
              "    }\n",
              "</style>\n",
              "<table border=\"1\" class=\"dataframe\">\n",
              "  <thead>\n",
              "    <tr style=\"text-align: right;\">\n",
              "      <th></th>\n",
              "      <th>DistrictId</th>\n",
              "      <th>Rooms</th>\n",
              "      <th>Square</th>\n",
              "      <th>LifeSquare</th>\n",
              "      <th>KitchenSquare</th>\n",
              "      <th>Floor</th>\n",
              "      <th>HouseFloor</th>\n",
              "      <th>HouseYear</th>\n",
              "      <th>Ecology_1</th>\n",
              "      <th>Ecology_2</th>\n",
              "      <th>Ecology_3</th>\n",
              "      <th>Social_1</th>\n",
              "      <th>Social_2</th>\n",
              "      <th>Social_3</th>\n",
              "      <th>Healthcare_1</th>\n",
              "      <th>Helthcare_2</th>\n",
              "      <th>Shops_1</th>\n",
              "      <th>Shops_2</th>\n",
              "      <th>Price</th>\n",
              "      <th>PriceMtsq</th>\n",
              "    </tr>\n",
              "    <tr>\n",
              "      <th>Id</th>\n",
              "      <th></th>\n",
              "      <th></th>\n",
              "      <th></th>\n",
              "      <th></th>\n",
              "      <th></th>\n",
              "      <th></th>\n",
              "      <th></th>\n",
              "      <th></th>\n",
              "      <th></th>\n",
              "      <th></th>\n",
              "      <th></th>\n",
              "      <th></th>\n",
              "      <th></th>\n",
              "      <th></th>\n",
              "      <th></th>\n",
              "      <th></th>\n",
              "      <th></th>\n",
              "      <th></th>\n",
              "      <th></th>\n",
              "      <th></th>\n",
              "    </tr>\n",
              "  </thead>\n",
              "  <tbody>\n",
              "    <tr>\n",
              "      <th>14038</th>\n",
              "      <td>35</td>\n",
              "      <td>2.0</td>\n",
              "      <td>47.981561</td>\n",
              "      <td>29.442751</td>\n",
              "      <td>6.0</td>\n",
              "      <td>7</td>\n",
              "      <td>9.0</td>\n",
              "      <td>1969</td>\n",
              "      <td>0.089040</td>\n",
              "      <td>1</td>\n",
              "      <td>1</td>\n",
              "      <td>33</td>\n",
              "      <td>7976</td>\n",
              "      <td>5</td>\n",
              "      <td>900.0</td>\n",
              "      <td>0</td>\n",
              "      <td>11</td>\n",
              "      <td>1</td>\n",
              "      <td>184966.930730</td>\n",
              "      <td>3854.958571</td>\n",
              "    </tr>\n",
              "    <tr>\n",
              "      <th>15053</th>\n",
              "      <td>41</td>\n",
              "      <td>3.0</td>\n",
              "      <td>65.683640</td>\n",
              "      <td>40.049543</td>\n",
              "      <td>8.0</td>\n",
              "      <td>7</td>\n",
              "      <td>9.0</td>\n",
              "      <td>1978</td>\n",
              "      <td>0.000070</td>\n",
              "      <td>1</td>\n",
              "      <td>1</td>\n",
              "      <td>46</td>\n",
              "      <td>10309</td>\n",
              "      <td>1</td>\n",
              "      <td>240.0</td>\n",
              "      <td>1</td>\n",
              "      <td>16</td>\n",
              "      <td>1</td>\n",
              "      <td>300009.450063</td>\n",
              "      <td>4567.491245</td>\n",
              "    </tr>\n",
              "    <tr>\n",
              "      <th>4765</th>\n",
              "      <td>53</td>\n",
              "      <td>2.0</td>\n",
              "      <td>44.947953</td>\n",
              "      <td>29.197612</td>\n",
              "      <td>0.0</td>\n",
              "      <td>8</td>\n",
              "      <td>12.0</td>\n",
              "      <td>1968</td>\n",
              "      <td>0.049637</td>\n",
              "      <td>1</td>\n",
              "      <td>1</td>\n",
              "      <td>34</td>\n",
              "      <td>7759</td>\n",
              "      <td>0</td>\n",
              "      <td>229.0</td>\n",
              "      <td>1</td>\n",
              "      <td>3</td>\n",
              "      <td>1</td>\n",
              "      <td>220925.908524</td>\n",
              "      <td>4915.149522</td>\n",
              "    </tr>\n",
              "    <tr>\n",
              "      <th>5809</th>\n",
              "      <td>58</td>\n",
              "      <td>2.0</td>\n",
              "      <td>61.731512</td>\n",
              "      <td>52.731512</td>\n",
              "      <td>9.0</td>\n",
              "      <td>8</td>\n",
              "      <td>17.0</td>\n",
              "      <td>1977</td>\n",
              "      <td>0.437885</td>\n",
              "      <td>1</td>\n",
              "      <td>1</td>\n",
              "      <td>23</td>\n",
              "      <td>5735</td>\n",
              "      <td>3</td>\n",
              "      <td>1084.0</td>\n",
              "      <td>0</td>\n",
              "      <td>5</td>\n",
              "      <td>1</td>\n",
              "      <td>175616.227217</td>\n",
              "      <td>2844.839230</td>\n",
              "    </tr>\n",
              "    <tr>\n",
              "      <th>10783</th>\n",
              "      <td>99</td>\n",
              "      <td>1.0</td>\n",
              "      <td>39.649192</td>\n",
              "      <td>23.776169</td>\n",
              "      <td>7.0</td>\n",
              "      <td>11</td>\n",
              "      <td>12.0</td>\n",
              "      <td>1976</td>\n",
              "      <td>0.012339</td>\n",
              "      <td>1</td>\n",
              "      <td>1</td>\n",
              "      <td>35</td>\n",
              "      <td>5776</td>\n",
              "      <td>1</td>\n",
              "      <td>2078.0</td>\n",
              "      <td>2</td>\n",
              "      <td>4</td>\n",
              "      <td>1</td>\n",
              "      <td>150226.531644</td>\n",
              "      <td>3788.892642</td>\n",
              "    </tr>\n",
              "  </tbody>\n",
              "</table>\n",
              "</div>"
            ],
            "text/plain": [
              "      DistrictId  Rooms     Square  ...  Shops_2          Price    PriceMtsq\n",
              "Id                                  ...                                     \n",
              "14038         35    2.0  47.981561  ...        1  184966.930730  3854.958571\n",
              "15053         41    3.0  65.683640  ...        1  300009.450063  4567.491245\n",
              "4765          53    2.0  44.947953  ...        1  220925.908524  4915.149522\n",
              "5809          58    2.0  61.731512  ...        1  175616.227217  2844.839230\n",
              "10783         99    1.0  39.649192  ...        1  150226.531644  3788.892642\n",
              "\n",
              "[5 rows x 20 columns]"
            ]
          },
          "metadata": {
            "tags": []
          },
          "execution_count": 67
        }
      ]
    },
    {
      "cell_type": "code",
      "metadata": {
        "id": "SHQqhKbQvDJX"
      },
      "source": [
        "train_ds['RemainSquare'] = train_ds['Square'] - train_ds['LifeSquare'] - train_ds['KitchenSquare']\n",
        "test_ds['RemainSquare'] = test_ds['Square'] - test_ds['LifeSquare'] - test_ds['KitchenSquare']"
      ],
      "execution_count": null,
      "outputs": []
    },
    {
      "cell_type": "code",
      "metadata": {
        "id": "mjYieKJDvDOO",
        "colab": {
          "base_uri": "https://localhost:8080/"
        },
        "outputId": "9fe11cc0-3657-4f7c-f4a3-44646e063a21"
      },
      "source": [
        "train_ds['RemainSquare'].describe()"
      ],
      "execution_count": null,
      "outputs": [
        {
          "output_type": "execute_result",
          "data": {
            "text/plain": [
              "count    1.000000e+04\n",
              "mean     1.098721e+01\n",
              "std      1.181434e+01\n",
              "min     -7.105427e-15\n",
              "25%      0.000000e+00\n",
              "50%      9.949590e+00\n",
              "75%      1.487837e+01\n",
              "max      1.382937e+02\n",
              "Name: RemainSquare, dtype: float64"
            ]
          },
          "metadata": {
            "tags": []
          },
          "execution_count": 69
        }
      ]
    },
    {
      "cell_type": "code",
      "metadata": {
        "id": "OoRJOep5vDRZ",
        "colab": {
          "base_uri": "https://localhost:8080/",
          "height": 255
        },
        "outputId": "c157d7a7-5402-43ba-8427-2af00cb7b14a"
      },
      "source": [
        "test_ds.head()"
      ],
      "execution_count": null,
      "outputs": [
        {
          "output_type": "execute_result",
          "data": {
            "text/html": [
              "<div>\n",
              "<style scoped>\n",
              "    .dataframe tbody tr th:only-of-type {\n",
              "        vertical-align: middle;\n",
              "    }\n",
              "\n",
              "    .dataframe tbody tr th {\n",
              "        vertical-align: top;\n",
              "    }\n",
              "\n",
              "    .dataframe thead th {\n",
              "        text-align: right;\n",
              "    }\n",
              "</style>\n",
              "<table border=\"1\" class=\"dataframe\">\n",
              "  <thead>\n",
              "    <tr style=\"text-align: right;\">\n",
              "      <th></th>\n",
              "      <th>DistrictId</th>\n",
              "      <th>Rooms</th>\n",
              "      <th>Square</th>\n",
              "      <th>LifeSquare</th>\n",
              "      <th>KitchenSquare</th>\n",
              "      <th>Floor</th>\n",
              "      <th>HouseFloor</th>\n",
              "      <th>HouseYear</th>\n",
              "      <th>Ecology_1</th>\n",
              "      <th>Ecology_2</th>\n",
              "      <th>Ecology_3</th>\n",
              "      <th>Social_1</th>\n",
              "      <th>Social_2</th>\n",
              "      <th>Social_3</th>\n",
              "      <th>Healthcare_1</th>\n",
              "      <th>Helthcare_2</th>\n",
              "      <th>Shops_1</th>\n",
              "      <th>Shops_2</th>\n",
              "      <th>RemainSquare</th>\n",
              "    </tr>\n",
              "    <tr>\n",
              "      <th>Id</th>\n",
              "      <th></th>\n",
              "      <th></th>\n",
              "      <th></th>\n",
              "      <th></th>\n",
              "      <th></th>\n",
              "      <th></th>\n",
              "      <th></th>\n",
              "      <th></th>\n",
              "      <th></th>\n",
              "      <th></th>\n",
              "      <th></th>\n",
              "      <th></th>\n",
              "      <th></th>\n",
              "      <th></th>\n",
              "      <th></th>\n",
              "      <th></th>\n",
              "      <th></th>\n",
              "      <th></th>\n",
              "      <th></th>\n",
              "    </tr>\n",
              "  </thead>\n",
              "  <tbody>\n",
              "    <tr>\n",
              "      <th>725</th>\n",
              "      <td>58</td>\n",
              "      <td>2.0</td>\n",
              "      <td>49.882643</td>\n",
              "      <td>33.432782</td>\n",
              "      <td>6.0</td>\n",
              "      <td>6</td>\n",
              "      <td>14.0</td>\n",
              "      <td>1972</td>\n",
              "      <td>0.310199</td>\n",
              "      <td>1</td>\n",
              "      <td>1</td>\n",
              "      <td>11</td>\n",
              "      <td>2748</td>\n",
              "      <td>1</td>\n",
              "      <td>900.0</td>\n",
              "      <td>0</td>\n",
              "      <td>0</td>\n",
              "      <td>1</td>\n",
              "      <td>10.449862</td>\n",
              "    </tr>\n",
              "    <tr>\n",
              "      <th>15856</th>\n",
              "      <td>74</td>\n",
              "      <td>2.0</td>\n",
              "      <td>69.263183</td>\n",
              "      <td>68.263183</td>\n",
              "      <td>1.0</td>\n",
              "      <td>7</td>\n",
              "      <td>1.0</td>\n",
              "      <td>1977</td>\n",
              "      <td>0.075779</td>\n",
              "      <td>1</td>\n",
              "      <td>1</td>\n",
              "      <td>6</td>\n",
              "      <td>1437</td>\n",
              "      <td>3</td>\n",
              "      <td>900.0</td>\n",
              "      <td>0</td>\n",
              "      <td>2</td>\n",
              "      <td>1</td>\n",
              "      <td>0.000000</td>\n",
              "    </tr>\n",
              "    <tr>\n",
              "      <th>5480</th>\n",
              "      <td>190</td>\n",
              "      <td>1.0</td>\n",
              "      <td>48.936106</td>\n",
              "      <td>36.936106</td>\n",
              "      <td>12.0</td>\n",
              "      <td>2</td>\n",
              "      <td>5.0</td>\n",
              "      <td>1909</td>\n",
              "      <td>0.000000</td>\n",
              "      <td>1</td>\n",
              "      <td>1</td>\n",
              "      <td>30</td>\n",
              "      <td>7538</td>\n",
              "      <td>87</td>\n",
              "      <td>4702.0</td>\n",
              "      <td>5</td>\n",
              "      <td>5</td>\n",
              "      <td>1</td>\n",
              "      <td>0.000000</td>\n",
              "    </tr>\n",
              "    <tr>\n",
              "      <th>15664</th>\n",
              "      <td>47</td>\n",
              "      <td>2.0</td>\n",
              "      <td>73.046609</td>\n",
              "      <td>51.940842</td>\n",
              "      <td>9.0</td>\n",
              "      <td>22</td>\n",
              "      <td>22.0</td>\n",
              "      <td>2007</td>\n",
              "      <td>0.101872</td>\n",
              "      <td>1</td>\n",
              "      <td>1</td>\n",
              "      <td>23</td>\n",
              "      <td>4583</td>\n",
              "      <td>3</td>\n",
              "      <td>900.0</td>\n",
              "      <td>3</td>\n",
              "      <td>3</td>\n",
              "      <td>1</td>\n",
              "      <td>12.105767</td>\n",
              "    </tr>\n",
              "    <tr>\n",
              "      <th>14275</th>\n",
              "      <td>27</td>\n",
              "      <td>1.0</td>\n",
              "      <td>47.527111</td>\n",
              "      <td>43.387569</td>\n",
              "      <td>1.0</td>\n",
              "      <td>17</td>\n",
              "      <td>17.0</td>\n",
              "      <td>2017</td>\n",
              "      <td>0.072158</td>\n",
              "      <td>1</td>\n",
              "      <td>1</td>\n",
              "      <td>2</td>\n",
              "      <td>629</td>\n",
              "      <td>1</td>\n",
              "      <td>900.0</td>\n",
              "      <td>0</td>\n",
              "      <td>0</td>\n",
              "      <td>0</td>\n",
              "      <td>3.139541</td>\n",
              "    </tr>\n",
              "  </tbody>\n",
              "</table>\n",
              "</div>"
            ],
            "text/plain": [
              "      DistrictId  Rooms     Square  ...  Shops_1  Shops_2  RemainSquare\n",
              "Id                                  ...                                \n",
              "725           58    2.0  49.882643  ...        0        1     10.449862\n",
              "15856         74    2.0  69.263183  ...        2        1      0.000000\n",
              "5480         190    1.0  48.936106  ...        5        1      0.000000\n",
              "15664         47    2.0  73.046609  ...        3        1     12.105767\n",
              "14275         27    1.0  47.527111  ...        0        0      3.139541\n",
              "\n",
              "[5 rows x 19 columns]"
            ]
          },
          "metadata": {
            "tags": []
          },
          "execution_count": 70
        }
      ]
    },
    {
      "cell_type": "code",
      "metadata": {
        "id": "k0cVAxyAvDV9"
      },
      "source": [
        "train_ds.to_csv('train_prepared.csv')\n",
        "test_ds.to_csv('test_prepared.csv')"
      ],
      "execution_count": null,
      "outputs": []
    },
    {
      "cell_type": "markdown",
      "metadata": {
        "id": "Icb-AE5WC1Ll"
      },
      "source": [
        "**Корреляционная матрица**"
      ]
    },
    {
      "cell_type": "code",
      "metadata": {
        "id": "sWZspJ4GvDZP",
        "colab": {
          "base_uri": "https://localhost:8080/",
          "height": 1000
        },
        "outputId": "b46f1dc5-0052-4eac-9afa-ff0330187542"
      },
      "source": [
        "plt.figure(figsize = (25,25))\n",
        "\n",
        "sns.set(font_scale=1.2)\n",
        "sns.heatmap(train_ds[feature_num_names + feature_bin_names + ['RemainSquare'] + ['PriceMtsq'] + ['Price']].corr(), \n",
        "            annot=True, linewidths=.5, cmap='Greens')\n",
        "\n",
        "plt.title('Correlation matrix');"
      ],
      "execution_count": null,
      "outputs": [
        {
          "output_type": "display_data",
          "data": {
            "image/png": "[encoded data removed]",
            "text/plain": [
              "<Figure size 1800x1800 with 2 Axes>"
            ]
          },
          "metadata": {
            "tags": [],
            "needs_background": "light"
          }
        }
      ]
    },
    {
      "cell_type": "markdown",
      "metadata": {
        "id": "fM891bj8C57A"
      },
      "source": [
        "**Подготовка**"
      ]
    },
    {
      "cell_type": "code",
      "metadata": {
        "id": "GWlw1M9YvDTj",
        "colab": {
          "base_uri": "https://localhost:8080/"
        },
        "outputId": "4f72b866-1d03-4557-a327-68e741e5faff"
      },
      "source": [
        "feature_names = train_ds.columns\n",
        "feature_names.tolist()"
      ],
      "execution_count": null,
      "outputs": [
        {
          "output_type": "execute_result",
          "data": {
            "text/plain": [
              "['DistrictId',\n",
              " 'Rooms',\n",
              " 'Square',\n",
              " 'LifeSquare',\n",
              " 'KitchenSquare',\n",
              " 'Floor',\n",
              " 'HouseFloor',\n",
              " 'HouseYear',\n",
              " 'Ecology_1',\n",
              " 'Ecology_2',\n",
              " 'Ecology_3',\n",
              " 'Social_1',\n",
              " 'Social_2',\n",
              " 'Social_3',\n",
              " 'Healthcare_1',\n",
              " 'Helthcare_2',\n",
              " 'Shops_1',\n",
              " 'Shops_2',\n",
              " 'Price',\n",
              " 'PriceMtsq',\n",
              " 'RemainSquare']"
            ]
          },
          "metadata": {
            "tags": []
          },
          "execution_count": 73
        }
      ]
    },
    {
      "cell_type": "code",
      "metadata": {
        "id": "X-_YuoaUvDL5"
      },
      "source": [
        "target_name = ['Price']\n",
        "feature_names = ['DistrictId',\n",
        "                 'Rooms',\n",
        "                 'Square',\n",
        "                 'LifeSquare',\n",
        "                 'KitchenSquare',\n",
        "                 'Floor',\n",
        "                 'HouseFloor',\n",
        "                 'HouseYear',\n",
        "#               'Ecology_1',\n",
        "                 'Ecology_2',\n",
        "#                 'Ecology_3',\n",
        "                 'Social_1',\n",
        "                 'Social_2',\n",
        "#                 'Social_3',\n",
        "                 'Healthcare_1',\n",
        "                 'Helthcare_2',\n",
        "                 'Shops_1',\n",
        "#                 'Shops_2',\n",
        "#                 'PriceMtsq',\n",
        "                 'RemainSquare']"
      ],
      "execution_count": null,
      "outputs": []
    },
    {
      "cell_type": "code",
      "metadata": {
        "id": "Z3YlOAnfvRgI"
      },
      "source": [
        "X = train_ds[feature_names]\n",
        "y = train_ds[target_name]\n",
        "X_test = test_ds[feature_names]"
      ],
      "execution_count": null,
      "outputs": []
    },
    {
      "cell_type": "code",
      "metadata": {
        "id": "PXcyyuNavpUJ"
      },
      "source": [
        "forest = RandomForestRegressor(max_depth=19, max_features=6, n_estimators=100, random_state=42)"
      ],
      "execution_count": null,
      "outputs": []
    },
    {
      "cell_type": "code",
      "metadata": {
        "id": "zveyMEuUvpXI",
        "colab": {
          "base_uri": "https://localhost:8080/"
        },
        "outputId": "f17ce267-9dce-4c52-d5a7-b49a19e7cf6d"
      },
      "source": [
        "kf = KFold(n_splits=10, random_state=42, shuffle=True)\n",
        "\n",
        "cv_score = cross_val_score(forest, X, y, scoring='r2', cv=kf)\n",
        "print('R2: {:.5f}'.format(cv_score.mean()))"
      ],
      "execution_count": null,
      "outputs": [
        {
          "output_type": "stream",
          "text": [
            "R2: 0.73107\n"
          ],
          "name": "stdout"
        }
      ]
    },
    {
      "cell_type": "markdown",
      "metadata": {
        "id": "NUoSzJtjDFcO"
      },
      "source": [
        "**Важность признаков**"
      ]
    },
    {
      "cell_type": "code",
      "metadata": {
        "id": "81FKN_RCvvcX"
      },
      "source": [
        "forest.fit(X, y)\n",
        "importances = forest.feature_importances_\n",
        "feat_importances = pd.Series(importances, index=feature_names)\n",
        "feat_importances.sort_values(ascending=True, inplace=True)"
      ],
      "execution_count": null,
      "outputs": []
    },
    {
      "cell_type": "code",
      "metadata": {
        "id": "QJfCoTR0vxUQ",
        "colab": {
          "base_uri": "https://localhost:8080/",
          "height": 380
        },
        "outputId": "37ac11fa-5f6d-48bf-8c3d-ff2a64f13cd1"
      },
      "source": [
        "feat_importances.plot(kind='barh', figsize=(10, 6));"
      ],
      "execution_count": null,
      "outputs": [
        {
          "output_type": "display_data",
          "data": {
            "image/png": "[encoded data removed]",
            "text/plain": [
              "<Figure size 720x432 with 1 Axes>"
            ]
          },
          "metadata": {
            "tags": []
          }
        }
      ]
    },
    {
      "cell_type": "markdown",
      "metadata": {
        "id": "Dx99OCM2DMyw"
      },
      "source": [
        "**Модель Random Forest**"
      ]
    },
    {
      "cell_type": "code",
      "metadata": {
        "id": "fV6NxveavxW7"
      },
      "source": [
        "params = {'n_estimators': [400], 'max_depth': [18,19,20], 'max_features': [5,6,7]}"
      ],
      "execution_count": null,
      "outputs": []
    },
    {
      "cell_type": "code",
      "metadata": {
        "id": "lCsNQTjIv10U",
        "colab": {
          "base_uri": "https://localhost:8080/"
        },
        "outputId": "c99139f8-ae39-4876-b546-08cba828c99b"
      },
      "source": [
        "forest_grid = GridSearchCV(forest, params, scoring='r2', cv=KFold(n_splits=10, random_state=42, shuffle=True), \n",
        "                           n_jobs=-1)\n",
        "forest_grid.fit(X, y)\n",
        "print(forest_grid.best_params_)\n",
        "print('R2 на train: {:.5f}'.format(forest_grid.best_score_))"
      ],
      "execution_count": null,
      "outputs": [
        {
          "output_type": "stream",
          "text": [
            "{'max_depth': 20, 'max_features': 5, 'n_estimators': 400}\n",
            "R2 на train: 0.73418\n"
          ],
          "name": "stdout"
        }
      ]
    },
    {
      "cell_type": "markdown",
      "metadata": {
        "id": "T7MMFizQDPi-"
      },
      "source": [
        "**Прогноз**"
      ]
    },
    {
      "cell_type": "code",
      "metadata": {
        "id": "coLqdn3Tv13A"
      },
      "source": [
        "forest_best = forest_grid.best_estimator_"
      ],
      "execution_count": null,
      "outputs": []
    },
    {
      "cell_type": "code",
      "metadata": {
        "id": "ssjV_LlOv17r"
      },
      "source": [
        "y_pred = forest_best.predict(X_test)"
      ],
      "execution_count": null,
      "outputs": []
    },
    {
      "cell_type": "code",
      "metadata": {
        "id": "Y581-JYQv1-j",
        "colab": {
          "base_uri": "https://localhost:8080/",
          "height": 204
        },
        "outputId": "1ca0f5db-8295-40a8-9d58-70e26d83816a"
      },
      "source": [
        "preds = pd.DataFrame()\n",
        "preds['Id'] = X_test.index\n",
        "preds['Price'] = y_pred\n",
        "preds.head()"
      ],
      "execution_count": null,
      "outputs": [
        {
          "output_type": "execute_result",
          "data": {
            "text/html": [
              "<div>\n",
              "<style scoped>\n",
              "    .dataframe tbody tr th:only-of-type {\n",
              "        vertical-align: middle;\n",
              "    }\n",
              "\n",
              "    .dataframe tbody tr th {\n",
              "        vertical-align: top;\n",
              "    }\n",
              "\n",
              "    .dataframe thead th {\n",
              "        text-align: right;\n",
              "    }\n",
              "</style>\n",
              "<table border=\"1\" class=\"dataframe\">\n",
              "  <thead>\n",
              "    <tr style=\"text-align: right;\">\n",
              "      <th></th>\n",
              "      <th>Id</th>\n",
              "      <th>Price</th>\n",
              "    </tr>\n",
              "  </thead>\n",
              "  <tbody>\n",
              "    <tr>\n",
              "      <th>0</th>\n",
              "      <td>725</td>\n",
              "      <td>169402.930007</td>\n",
              "    </tr>\n",
              "    <tr>\n",
              "      <th>1</th>\n",
              "      <td>15856</td>\n",
              "      <td>225560.113291</td>\n",
              "    </tr>\n",
              "    <tr>\n",
              "      <th>2</th>\n",
              "      <td>5480</td>\n",
              "      <td>289946.299725</td>\n",
              "    </tr>\n",
              "    <tr>\n",
              "      <th>3</th>\n",
              "      <td>15664</td>\n",
              "      <td>336475.169023</td>\n",
              "    </tr>\n",
              "    <tr>\n",
              "      <th>4</th>\n",
              "      <td>14275</td>\n",
              "      <td>139776.465923</td>\n",
              "    </tr>\n",
              "  </tbody>\n",
              "</table>\n",
              "</div>"
            ],
            "text/plain": [
              "      Id          Price\n",
              "0    725  169402.930007\n",
              "1  15856  225560.113291\n",
              "2   5480  289946.299725\n",
              "3  15664  336475.169023\n",
              "4  14275  139776.465923"
            ]
          },
          "metadata": {
            "tags": []
          },
          "execution_count": 84
        }
      ]
    },
    {
      "cell_type": "code",
      "metadata": {
        "id": "TnjKtVZ9v2BM"
      },
      "source": [
        "preds.to_csv('final.csv', index=False)"
      ],
      "execution_count": null,
      "outputs": []
    }
  ]
}